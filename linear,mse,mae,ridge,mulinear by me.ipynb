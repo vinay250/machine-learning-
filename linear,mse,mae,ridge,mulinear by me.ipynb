{
  "nbformat": 4,
  "nbformat_minor": 0,
  "metadata": {
    "colab": {
      "provenance": []
    },
    "kernelspec": {
      "name": "python3",
      "display_name": "Python 3"
    },
    "language_info": {
      "name": "python"
    }
  },
  "cells": [
    {
      "cell_type": "markdown",
      "source": [
        "\n",
        "practical of the regression"
      ],
      "metadata": {
        "id": "_skCW7sAxxCl"
      }
    },
    {
      "cell_type": "markdown",
      "source": [
        "1 data ingestion\n",
        "2 eda\n",
        "3 preprocessing or fe\n",
        "4 model\n",
        "5 evaluation"
      ],
      "metadata": {
        "id": "a-UD0PDX92RZ"
      }
    },
    {
      "cell_type": "markdown",
      "source": [],
      "metadata": {
        "id": "JgKjDaCZxmQm"
      }
    },
    {
      "cell_type": "code",
      "source": [
        "import pandas as pd\n",
        "\n",
        "df=pd.read_csv(\"/placement.csv\")"
      ],
      "metadata": {
        "id": "u6DU5zT3xt_K"
      },
      "execution_count": 7,
      "outputs": []
    },
    {
      "cell_type": "code",
      "source": [
        "df.head()"
      ],
      "metadata": {
        "colab": {
          "base_uri": "https://localhost:8080/",
          "height": 206
        },
        "id": "FBZPdhBHAJ_g",
        "outputId": "5e8fc7c7-69a1-4fce-ee6d-1032d20c46aa"
      },
      "execution_count": 8,
      "outputs": [
        {
          "output_type": "execute_result",
          "data": {
            "text/plain": [
              "   cgpa  placement_exam_marks  placed\n",
              "0  7.19                  26.0       1\n",
              "1  7.46                  38.0       1\n",
              "2  7.54                  40.0       1\n",
              "3  6.42                   8.0       1\n",
              "4  7.23                  17.0       0"
            ],
            "text/html": [
              "\n",
              "  <div id=\"df-6e838c0e-5163-4a43-8258-22aafd988659\" class=\"colab-df-container\">\n",
              "    <div>\n",
              "<style scoped>\n",
              "    .dataframe tbody tr th:only-of-type {\n",
              "        vertical-align: middle;\n",
              "    }\n",
              "\n",
              "    .dataframe tbody tr th {\n",
              "        vertical-align: top;\n",
              "    }\n",
              "\n",
              "    .dataframe thead th {\n",
              "        text-align: right;\n",
              "    }\n",
              "</style>\n",
              "<table border=\"1\" class=\"dataframe\">\n",
              "  <thead>\n",
              "    <tr style=\"text-align: right;\">\n",
              "      <th></th>\n",
              "      <th>cgpa</th>\n",
              "      <th>placement_exam_marks</th>\n",
              "      <th>placed</th>\n",
              "    </tr>\n",
              "  </thead>\n",
              "  <tbody>\n",
              "    <tr>\n",
              "      <th>0</th>\n",
              "      <td>7.19</td>\n",
              "      <td>26.0</td>\n",
              "      <td>1</td>\n",
              "    </tr>\n",
              "    <tr>\n",
              "      <th>1</th>\n",
              "      <td>7.46</td>\n",
              "      <td>38.0</td>\n",
              "      <td>1</td>\n",
              "    </tr>\n",
              "    <tr>\n",
              "      <th>2</th>\n",
              "      <td>7.54</td>\n",
              "      <td>40.0</td>\n",
              "      <td>1</td>\n",
              "    </tr>\n",
              "    <tr>\n",
              "      <th>3</th>\n",
              "      <td>6.42</td>\n",
              "      <td>8.0</td>\n",
              "      <td>1</td>\n",
              "    </tr>\n",
              "    <tr>\n",
              "      <th>4</th>\n",
              "      <td>7.23</td>\n",
              "      <td>17.0</td>\n",
              "      <td>0</td>\n",
              "    </tr>\n",
              "  </tbody>\n",
              "</table>\n",
              "</div>\n",
              "    <div class=\"colab-df-buttons\">\n",
              "\n",
              "  <div class=\"colab-df-container\">\n",
              "    <button class=\"colab-df-convert\" onclick=\"convertToInteractive('df-6e838c0e-5163-4a43-8258-22aafd988659')\"\n",
              "            title=\"Convert this dataframe to an interactive table.\"\n",
              "            style=\"display:none;\">\n",
              "\n",
              "  <svg xmlns=\"http://www.w3.org/2000/svg\" height=\"24px\" viewBox=\"0 -960 960 960\">\n",
              "    <path d=\"M120-120v-720h720v720H120Zm60-500h600v-160H180v160Zm220 220h160v-160H400v160Zm0 220h160v-160H400v160ZM180-400h160v-160H180v160Zm440 0h160v-160H620v160ZM180-180h160v-160H180v160Zm440 0h160v-160H620v160Z\"/>\n",
              "  </svg>\n",
              "    </button>\n",
              "\n",
              "  <style>\n",
              "    .colab-df-container {\n",
              "      display:flex;\n",
              "      gap: 12px;\n",
              "    }\n",
              "\n",
              "    .colab-df-convert {\n",
              "      background-color: #E8F0FE;\n",
              "      border: none;\n",
              "      border-radius: 50%;\n",
              "      cursor: pointer;\n",
              "      display: none;\n",
              "      fill: #1967D2;\n",
              "      height: 32px;\n",
              "      padding: 0 0 0 0;\n",
              "      width: 32px;\n",
              "    }\n",
              "\n",
              "    .colab-df-convert:hover {\n",
              "      background-color: #E2EBFA;\n",
              "      box-shadow: 0px 1px 2px rgba(60, 64, 67, 0.3), 0px 1px 3px 1px rgba(60, 64, 67, 0.15);\n",
              "      fill: #174EA6;\n",
              "    }\n",
              "\n",
              "    .colab-df-buttons div {\n",
              "      margin-bottom: 4px;\n",
              "    }\n",
              "\n",
              "    [theme=dark] .colab-df-convert {\n",
              "      background-color: #3B4455;\n",
              "      fill: #D2E3FC;\n",
              "    }\n",
              "\n",
              "    [theme=dark] .colab-df-convert:hover {\n",
              "      background-color: #434B5C;\n",
              "      box-shadow: 0px 1px 3px 1px rgba(0, 0, 0, 0.15);\n",
              "      filter: drop-shadow(0px 1px 2px rgba(0, 0, 0, 0.3));\n",
              "      fill: #FFFFFF;\n",
              "    }\n",
              "  </style>\n",
              "\n",
              "    <script>\n",
              "      const buttonEl =\n",
              "        document.querySelector('#df-6e838c0e-5163-4a43-8258-22aafd988659 button.colab-df-convert');\n",
              "      buttonEl.style.display =\n",
              "        google.colab.kernel.accessAllowed ? 'block' : 'none';\n",
              "\n",
              "      async function convertToInteractive(key) {\n",
              "        const element = document.querySelector('#df-6e838c0e-5163-4a43-8258-22aafd988659');\n",
              "        const dataTable =\n",
              "          await google.colab.kernel.invokeFunction('convertToInteractive',\n",
              "                                                    [key], {});\n",
              "        if (!dataTable) return;\n",
              "\n",
              "        const docLinkHtml = 'Like what you see? Visit the ' +\n",
              "          '<a target=\"_blank\" href=https://colab.research.google.com/notebooks/data_table.ipynb>data table notebook</a>'\n",
              "          + ' to learn more about interactive tables.';\n",
              "        element.innerHTML = '';\n",
              "        dataTable['output_type'] = 'display_data';\n",
              "        await google.colab.output.renderOutput(dataTable, element);\n",
              "        const docLink = document.createElement('div');\n",
              "        docLink.innerHTML = docLinkHtml;\n",
              "        element.appendChild(docLink);\n",
              "      }\n",
              "    </script>\n",
              "  </div>\n",
              "\n",
              "\n",
              "<div id=\"df-d17e7e87-b555-438d-917e-dae98b90ae3c\">\n",
              "  <button class=\"colab-df-quickchart\" onclick=\"quickchart('df-d17e7e87-b555-438d-917e-dae98b90ae3c')\"\n",
              "            title=\"Suggest charts.\"\n",
              "            style=\"display:none;\">\n",
              "\n",
              "<svg xmlns=\"http://www.w3.org/2000/svg\" height=\"24px\"viewBox=\"0 0 24 24\"\n",
              "     width=\"24px\">\n",
              "    <g>\n",
              "        <path d=\"M19 3H5c-1.1 0-2 .9-2 2v14c0 1.1.9 2 2 2h14c1.1 0 2-.9 2-2V5c0-1.1-.9-2-2-2zM9 17H7v-7h2v7zm4 0h-2V7h2v10zm4 0h-2v-4h2v4z\"/>\n",
              "    </g>\n",
              "</svg>\n",
              "  </button>\n",
              "\n",
              "<style>\n",
              "  .colab-df-quickchart {\n",
              "      --bg-color: #E8F0FE;\n",
              "      --fill-color: #1967D2;\n",
              "      --hover-bg-color: #E2EBFA;\n",
              "      --hover-fill-color: #174EA6;\n",
              "      --disabled-fill-color: #AAA;\n",
              "      --disabled-bg-color: #DDD;\n",
              "  }\n",
              "\n",
              "  [theme=dark] .colab-df-quickchart {\n",
              "      --bg-color: #3B4455;\n",
              "      --fill-color: #D2E3FC;\n",
              "      --hover-bg-color: #434B5C;\n",
              "      --hover-fill-color: #FFFFFF;\n",
              "      --disabled-bg-color: #3B4455;\n",
              "      --disabled-fill-color: #666;\n",
              "  }\n",
              "\n",
              "  .colab-df-quickchart {\n",
              "    background-color: var(--bg-color);\n",
              "    border: none;\n",
              "    border-radius: 50%;\n",
              "    cursor: pointer;\n",
              "    display: none;\n",
              "    fill: var(--fill-color);\n",
              "    height: 32px;\n",
              "    padding: 0;\n",
              "    width: 32px;\n",
              "  }\n",
              "\n",
              "  .colab-df-quickchart:hover {\n",
              "    background-color: var(--hover-bg-color);\n",
              "    box-shadow: 0 1px 2px rgba(60, 64, 67, 0.3), 0 1px 3px 1px rgba(60, 64, 67, 0.15);\n",
              "    fill: var(--button-hover-fill-color);\n",
              "  }\n",
              "\n",
              "  .colab-df-quickchart-complete:disabled,\n",
              "  .colab-df-quickchart-complete:disabled:hover {\n",
              "    background-color: var(--disabled-bg-color);\n",
              "    fill: var(--disabled-fill-color);\n",
              "    box-shadow: none;\n",
              "  }\n",
              "\n",
              "  .colab-df-spinner {\n",
              "    border: 2px solid var(--fill-color);\n",
              "    border-color: transparent;\n",
              "    border-bottom-color: var(--fill-color);\n",
              "    animation:\n",
              "      spin 1s steps(1) infinite;\n",
              "  }\n",
              "\n",
              "  @keyframes spin {\n",
              "    0% {\n",
              "      border-color: transparent;\n",
              "      border-bottom-color: var(--fill-color);\n",
              "      border-left-color: var(--fill-color);\n",
              "    }\n",
              "    20% {\n",
              "      border-color: transparent;\n",
              "      border-left-color: var(--fill-color);\n",
              "      border-top-color: var(--fill-color);\n",
              "    }\n",
              "    30% {\n",
              "      border-color: transparent;\n",
              "      border-left-color: var(--fill-color);\n",
              "      border-top-color: var(--fill-color);\n",
              "      border-right-color: var(--fill-color);\n",
              "    }\n",
              "    40% {\n",
              "      border-color: transparent;\n",
              "      border-right-color: var(--fill-color);\n",
              "      border-top-color: var(--fill-color);\n",
              "    }\n",
              "    60% {\n",
              "      border-color: transparent;\n",
              "      border-right-color: var(--fill-color);\n",
              "    }\n",
              "    80% {\n",
              "      border-color: transparent;\n",
              "      border-right-color: var(--fill-color);\n",
              "      border-bottom-color: var(--fill-color);\n",
              "    }\n",
              "    90% {\n",
              "      border-color: transparent;\n",
              "      border-bottom-color: var(--fill-color);\n",
              "    }\n",
              "  }\n",
              "</style>\n",
              "\n",
              "  <script>\n",
              "    async function quickchart(key) {\n",
              "      const quickchartButtonEl =\n",
              "        document.querySelector('#' + key + ' button');\n",
              "      quickchartButtonEl.disabled = true;  // To prevent multiple clicks.\n",
              "      quickchartButtonEl.classList.add('colab-df-spinner');\n",
              "      try {\n",
              "        const charts = await google.colab.kernel.invokeFunction(\n",
              "            'suggestCharts', [key], {});\n",
              "      } catch (error) {\n",
              "        console.error('Error during call to suggestCharts:', error);\n",
              "      }\n",
              "      quickchartButtonEl.classList.remove('colab-df-spinner');\n",
              "      quickchartButtonEl.classList.add('colab-df-quickchart-complete');\n",
              "    }\n",
              "    (() => {\n",
              "      let quickchartButtonEl =\n",
              "        document.querySelector('#df-d17e7e87-b555-438d-917e-dae98b90ae3c button');\n",
              "      quickchartButtonEl.style.display =\n",
              "        google.colab.kernel.accessAllowed ? 'block' : 'none';\n",
              "    })();\n",
              "  </script>\n",
              "</div>\n",
              "    </div>\n",
              "  </div>\n"
            ]
          },
          "metadata": {},
          "execution_count": 8
        }
      ]
    },
    {
      "cell_type": "code",
      "source": [
        "import matplotlib.pyplot as plt\n",
        "plt.scatter(df[\"cgpa\"],df[\"placement_exam_marks\"])\n",
        "plt.xlabel(\"cgpa\")\n",
        "plt.ylabel(\"placement_exam_marks\")\n"
      ],
      "metadata": {
        "colab": {
          "base_uri": "https://localhost:8080/",
          "height": 466
        },
        "id": "z09vFFoM_Zyp",
        "outputId": "cc2d8d8b-fe9b-4342-cb72-f9b8d3a61c2e"
      },
      "execution_count": 13,
      "outputs": [
        {
          "output_type": "execute_result",
          "data": {
            "text/plain": [
              "Text(0, 0.5, 'placement_exam_marks')"
            ]
          },
          "metadata": {},
          "execution_count": 13
        },
        {
          "output_type": "display_data",
          "data": {
            "text/plain": [
              "<Figure size 640x480 with 1 Axes>"
            ],
            "image/png": "[encoded data removed]"
          },
          "metadata": {}
        }
      ]
    },
    {
      "cell_type": "code",
      "source": [
        "df.iloc[:,0:1]"
      ],
      "metadata": {
        "colab": {
          "base_uri": "https://localhost:8080/",
          "height": 423
        },
        "id": "vhtuc5q6B_I5",
        "outputId": "1aa6ef78-fe08-458e-d1fe-81cb992a1cd3"
      },
      "execution_count": 42,
      "outputs": [
        {
          "output_type": "execute_result",
          "data": {
            "text/plain": [
              "     cgpa\n",
              "0    7.19\n",
              "1    7.46\n",
              "2    7.54\n",
              "3    6.42\n",
              "4    7.23\n",
              "..    ...\n",
              "995  8.87\n",
              "996  9.12\n",
              "997  4.89\n",
              "998  8.62\n",
              "999  4.90\n",
              "\n",
              "[1000 rows x 1 columns]"
            ],
            "text/html": [
              "\n",
              "  <div id=\"df-67a9c3db-c741-4f7a-8c42-c472af89bb6b\" class=\"colab-df-container\">\n",
              "    <div>\n",
              "<style scoped>\n",
              "    .dataframe tbody tr th:only-of-type {\n",
              "        vertical-align: middle;\n",
              "    }\n",
              "\n",
              "    .dataframe tbody tr th {\n",
              "        vertical-align: top;\n",
              "    }\n",
              "\n",
              "    .dataframe thead th {\n",
              "        text-align: right;\n",
              "    }\n",
              "</style>\n",
              "<table border=\"1\" class=\"dataframe\">\n",
              "  <thead>\n",
              "    <tr style=\"text-align: right;\">\n",
              "      <th></th>\n",
              "      <th>cgpa</th>\n",
              "    </tr>\n",
              "  </thead>\n",
              "  <tbody>\n",
              "    <tr>\n",
              "      <th>0</th>\n",
              "      <td>7.19</td>\n",
              "    </tr>\n",
              "    <tr>\n",
              "      <th>1</th>\n",
              "      <td>7.46</td>\n",
              "    </tr>\n",
              "    <tr>\n",
              "      <th>2</th>\n",
              "      <td>7.54</td>\n",
              "    </tr>\n",
              "    <tr>\n",
              "      <th>3</th>\n",
              "      <td>6.42</td>\n",
              "    </tr>\n",
              "    <tr>\n",
              "      <th>4</th>\n",
              "      <td>7.23</td>\n",
              "    </tr>\n",
              "    <tr>\n",
              "      <th>...</th>\n",
              "      <td>...</td>\n",
              "    </tr>\n",
              "    <tr>\n",
              "      <th>995</th>\n",
              "      <td>8.87</td>\n",
              "    </tr>\n",
              "    <tr>\n",
              "      <th>996</th>\n",
              "      <td>9.12</td>\n",
              "    </tr>\n",
              "    <tr>\n",
              "      <th>997</th>\n",
              "      <td>4.89</td>\n",
              "    </tr>\n",
              "    <tr>\n",
              "      <th>998</th>\n",
              "      <td>8.62</td>\n",
              "    </tr>\n",
              "    <tr>\n",
              "      <th>999</th>\n",
              "      <td>4.90</td>\n",
              "    </tr>\n",
              "  </tbody>\n",
              "</table>\n",
              "<p>1000 rows × 1 columns</p>\n",
              "</div>\n",
              "    <div class=\"colab-df-buttons\">\n",
              "\n",
              "  <div class=\"colab-df-container\">\n",
              "    <button class=\"colab-df-convert\" onclick=\"convertToInteractive('df-67a9c3db-c741-4f7a-8c42-c472af89bb6b')\"\n",
              "            title=\"Convert this dataframe to an interactive table.\"\n",
              "            style=\"display:none;\">\n",
              "\n",
              "  <svg xmlns=\"http://www.w3.org/2000/svg\" height=\"24px\" viewBox=\"0 -960 960 960\">\n",
              "    <path d=\"M120-120v-720h720v720H120Zm60-500h600v-160H180v160Zm220 220h160v-160H400v160Zm0 220h160v-160H400v160ZM180-400h160v-160H180v160Zm440 0h160v-160H620v160ZM180-180h160v-160H180v160Zm440 0h160v-160H620v160Z\"/>\n",
              "  </svg>\n",
              "    </button>\n",
              "\n",
              "  <style>\n",
              "    .colab-df-container {\n",
              "      display:flex;\n",
              "      gap: 12px;\n",
              "    }\n",
              "\n",
              "    .colab-df-convert {\n",
              "      background-color: #E8F0FE;\n",
              "      border: none;\n",
              "      border-radius: 50%;\n",
              "      cursor: pointer;\n",
              "      display: none;\n",
              "      fill: #1967D2;\n",
              "      height: 32px;\n",
              "      padding: 0 0 0 0;\n",
              "      width: 32px;\n",
              "    }\n",
              "\n",
              "    .colab-df-convert:hover {\n",
              "      background-color: #E2EBFA;\n",
              "      box-shadow: 0px 1px 2px rgba(60, 64, 67, 0.3), 0px 1px 3px 1px rgba(60, 64, 67, 0.15);\n",
              "      fill: #174EA6;\n",
              "    }\n",
              "\n",
              "    .colab-df-buttons div {\n",
              "      margin-bottom: 4px;\n",
              "    }\n",
              "\n",
              "    [theme=dark] .colab-df-convert {\n",
              "      background-color: #3B4455;\n",
              "      fill: #D2E3FC;\n",
              "    }\n",
              "\n",
              "    [theme=dark] .colab-df-convert:hover {\n",
              "      background-color: #434B5C;\n",
              "      box-shadow: 0px 1px 3px 1px rgba(0, 0, 0, 0.15);\n",
              "      filter: drop-shadow(0px 1px 2px rgba(0, 0, 0, 0.3));\n",
              "      fill: #FFFFFF;\n",
              "    }\n",
              "  </style>\n",
              "\n",
              "    <script>\n",
              "      const buttonEl =\n",
              "        document.querySelector('#df-67a9c3db-c741-4f7a-8c42-c472af89bb6b button.colab-df-convert');\n",
              "      buttonEl.style.display =\n",
              "        google.colab.kernel.accessAllowed ? 'block' : 'none';\n",
              "\n",
              "      async function convertToInteractive(key) {\n",
              "        const element = document.querySelector('#df-67a9c3db-c741-4f7a-8c42-c472af89bb6b');\n",
              "        const dataTable =\n",
              "          await google.colab.kernel.invokeFunction('convertToInteractive',\n",
              "                                                    [key], {});\n",
              "        if (!dataTable) return;\n",
              "\n",
              "        const docLinkHtml = 'Like what you see? Visit the ' +\n",
              "          '<a target=\"_blank\" href=https://colab.research.google.com/notebooks/data_table.ipynb>data table notebook</a>'\n",
              "          + ' to learn more about interactive tables.';\n",
              "        element.innerHTML = '';\n",
              "        dataTable['output_type'] = 'display_data';\n",
              "        await google.colab.output.renderOutput(dataTable, element);\n",
              "        const docLink = document.createElement('div');\n",
              "        docLink.innerHTML = docLinkHtml;\n",
              "        element.appendChild(docLink);\n",
              "      }\n",
              "    </script>\n",
              "  </div>\n",
              "\n",
              "\n",
              "<div id=\"df-639f10e9-b2bc-48ab-bdd1-7472ad311fac\">\n",
              "  <button class=\"colab-df-quickchart\" onclick=\"quickchart('df-639f10e9-b2bc-48ab-bdd1-7472ad311fac')\"\n",
              "            title=\"Suggest charts.\"\n",
              "            style=\"display:none;\">\n",
              "\n",
              "<svg xmlns=\"http://www.w3.org/2000/svg\" height=\"24px\"viewBox=\"0 0 24 24\"\n",
              "     width=\"24px\">\n",
              "    <g>\n",
              "        <path d=\"M19 3H5c-1.1 0-2 .9-2 2v14c0 1.1.9 2 2 2h14c1.1 0 2-.9 2-2V5c0-1.1-.9-2-2-2zM9 17H7v-7h2v7zm4 0h-2V7h2v10zm4 0h-2v-4h2v4z\"/>\n",
              "    </g>\n",
              "</svg>\n",
              "  </button>\n",
              "\n",
              "<style>\n",
              "  .colab-df-quickchart {\n",
              "      --bg-color: #E8F0FE;\n",
              "      --fill-color: #1967D2;\n",
              "      --hover-bg-color: #E2EBFA;\n",
              "      --hover-fill-color: #174EA6;\n",
              "      --disabled-fill-color: #AAA;\n",
              "      --disabled-bg-color: #DDD;\n",
              "  }\n",
              "\n",
              "  [theme=dark] .colab-df-quickchart {\n",
              "      --bg-color: #3B4455;\n",
              "      --fill-color: #D2E3FC;\n",
              "      --hover-bg-color: #434B5C;\n",
              "      --hover-fill-color: #FFFFFF;\n",
              "      --disabled-bg-color: #3B4455;\n",
              "      --disabled-fill-color: #666;\n",
              "  }\n",
              "\n",
              "  .colab-df-quickchart {\n",
              "    background-color: var(--bg-color);\n",
              "    border: none;\n",
              "    border-radius: 50%;\n",
              "    cursor: pointer;\n",
              "    display: none;\n",
              "    fill: var(--fill-color);\n",
              "    height: 32px;\n",
              "    padding: 0;\n",
              "    width: 32px;\n",
              "  }\n",
              "\n",
              "  .colab-df-quickchart:hover {\n",
              "    background-color: var(--hover-bg-color);\n",
              "    box-shadow: 0 1px 2px rgba(60, 64, 67, 0.3), 0 1px 3px 1px rgba(60, 64, 67, 0.15);\n",
              "    fill: var(--button-hover-fill-color);\n",
              "  }\n",
              "\n",
              "  .colab-df-quickchart-complete:disabled,\n",
              "  .colab-df-quickchart-complete:disabled:hover {\n",
              "    background-color: var(--disabled-bg-color);\n",
              "    fill: var(--disabled-fill-color);\n",
              "    box-shadow: none;\n",
              "  }\n",
              "\n",
              "  .colab-df-spinner {\n",
              "    border: 2px solid var(--fill-color);\n",
              "    border-color: transparent;\n",
              "    border-bottom-color: var(--fill-color);\n",
              "    animation:\n",
              "      spin 1s steps(1) infinite;\n",
              "  }\n",
              "\n",
              "  @keyframes spin {\n",
              "    0% {\n",
              "      border-color: transparent;\n",
              "      border-bottom-color: var(--fill-color);\n",
              "      border-left-color: var(--fill-color);\n",
              "    }\n",
              "    20% {\n",
              "      border-color: transparent;\n",
              "      border-left-color: var(--fill-color);\n",
              "      border-top-color: var(--fill-color);\n",
              "    }\n",
              "    30% {\n",
              "      border-color: transparent;\n",
              "      border-left-color: var(--fill-color);\n",
              "      border-top-color: var(--fill-color);\n",
              "      border-right-color: var(--fill-color);\n",
              "    }\n",
              "    40% {\n",
              "      border-color: transparent;\n",
              "      border-right-color: var(--fill-color);\n",
              "      border-top-color: var(--fill-color);\n",
              "    }\n",
              "    60% {\n",
              "      border-color: transparent;\n",
              "      border-right-color: var(--fill-color);\n",
              "    }\n",
              "    80% {\n",
              "      border-color: transparent;\n",
              "      border-right-color: var(--fill-color);\n",
              "      border-bottom-color: var(--fill-color);\n",
              "    }\n",
              "    90% {\n",
              "      border-color: transparent;\n",
              "      border-bottom-color: var(--fill-color);\n",
              "    }\n",
              "  }\n",
              "</style>\n",
              "\n",
              "  <script>\n",
              "    async function quickchart(key) {\n",
              "      const quickchartButtonEl =\n",
              "        document.querySelector('#' + key + ' button');\n",
              "      quickchartButtonEl.disabled = true;  // To prevent multiple clicks.\n",
              "      quickchartButtonEl.classList.add('colab-df-spinner');\n",
              "      try {\n",
              "        const charts = await google.colab.kernel.invokeFunction(\n",
              "            'suggestCharts', [key], {});\n",
              "      } catch (error) {\n",
              "        console.error('Error during call to suggestCharts:', error);\n",
              "      }\n",
              "      quickchartButtonEl.classList.remove('colab-df-spinner');\n",
              "      quickchartButtonEl.classList.add('colab-df-quickchart-complete');\n",
              "    }\n",
              "    (() => {\n",
              "      let quickchartButtonEl =\n",
              "        document.querySelector('#df-639f10e9-b2bc-48ab-bdd1-7472ad311fac button');\n",
              "      quickchartButtonEl.style.display =\n",
              "        google.colab.kernel.accessAllowed ? 'block' : 'none';\n",
              "    })();\n",
              "  </script>\n",
              "</div>\n",
              "    </div>\n",
              "  </div>\n"
            ]
          },
          "metadata": {},
          "execution_count": 42
        }
      ]
    },
    {
      "cell_type": "code",
      "source": [
        "df.iloc[:,-1]"
      ],
      "metadata": {
        "colab": {
          "base_uri": "https://localhost:8080/"
        },
        "id": "aK_y-D50B_RS",
        "outputId": "d8bc5942-6fbe-49d4-f036-90bbd389e812"
      },
      "execution_count": 43,
      "outputs": [
        {
          "output_type": "execute_result",
          "data": {
            "text/plain": [
              "0      1\n",
              "1      1\n",
              "2      1\n",
              "3      1\n",
              "4      0\n",
              "      ..\n",
              "995    1\n",
              "996    1\n",
              "997    0\n",
              "998    1\n",
              "999    1\n",
              "Name: placed, Length: 1000, dtype: int64"
            ]
          },
          "metadata": {},
          "execution_count": 43
        }
      ]
    },
    {
      "cell_type": "code",
      "source": [
        "X=df.iloc[:,0:1]\n",
        "Y=df.iloc[:,-1]"
      ],
      "metadata": {
        "id": "DTSReIZOEPEU"
      },
      "execution_count": 44,
      "outputs": []
    },
    {
      "cell_type": "code",
      "source": [
        "df.shape"
      ],
      "metadata": {
        "colab": {
          "base_uri": "https://localhost:8080/"
        },
        "id": "PoeeE8LEHcJC",
        "outputId": "f48bcc0c-11bb-4134-81b3-28e48aeb0a76"
      },
      "execution_count": 45,
      "outputs": [
        {
          "output_type": "execute_result",
          "data": {
            "text/plain": [
              "(1000, 3)"
            ]
          },
          "metadata": {},
          "execution_count": 45
        }
      ]
    },
    {
      "cell_type": "code",
      "source": [
        "1000*0.15"
      ],
      "metadata": {
        "colab": {
          "base_uri": "https://localhost:8080/"
        },
        "id": "UVxOY06PHfj4",
        "outputId": "8cf8af07-06ec-4379-9d42-eb3995df9a2a"
      },
      "execution_count": 46,
      "outputs": [
        {
          "output_type": "execute_result",
          "data": {
            "text/plain": [
              "150.0"
            ]
          },
          "metadata": {},
          "execution_count": 46
        }
      ]
    },
    {
      "cell_type": "code",
      "source": [
        "from sklearn.model_selection import train_test_split"
      ],
      "metadata": {
        "id": "BNQrbm_7EPII"
      },
      "execution_count": 47,
      "outputs": []
    },
    {
      "cell_type": "markdown",
      "source": [
        "#random smapling it might anything my 1 also\n"
      ],
      "metadata": {
        "id": "No-uA0FSFVz9"
      }
    },
    {
      "cell_type": "code",
      "source": [
        "X_train,X_test,Y_train,y_test=train_test_split(X,Y,test_size=0.15,random_state=42)"
      ],
      "metadata": {
        "id": "O2MUwCcKEPLw"
      },
      "execution_count": 48,
      "outputs": []
    },
    {
      "cell_type": "code",
      "source": [
        "X_train.shape\n"
      ],
      "metadata": {
        "colab": {
          "base_uri": "https://localhost:8080/"
        },
        "id": "3xEk32XQEPPH",
        "outputId": "688db5bd-b848-465c-c1d5-ef8d95add110"
      },
      "execution_count": 51,
      "outputs": [
        {
          "output_type": "execute_result",
          "data": {
            "text/plain": [
              "(850, 1)"
            ]
          },
          "metadata": {},
          "execution_count": 51
        }
      ]
    },
    {
      "cell_type": "code",
      "source": [
        "X_test.shape"
      ],
      "metadata": {
        "colab": {
          "base_uri": "https://localhost:8080/"
        },
        "id": "dh8aA4Z6EPS7",
        "outputId": "36a206ae-8381-494c-c1d2-e5a0153c0247"
      },
      "execution_count": 52,
      "outputs": [
        {
          "output_type": "execute_result",
          "data": {
            "text/plain": [
              "(150, 1)"
            ]
          },
          "metadata": {},
          "execution_count": 52
        }
      ]
    },
    {
      "cell_type": "code",
      "source": [
        "from sklearn .linear_model import LinearRegression"
      ],
      "metadata": {
        "id": "yFb3fTD9IOAI"
      },
      "execution_count": 53,
      "outputs": []
    },
    {
      "cell_type": "code",
      "source": [
        "model=LinearRegression()"
      ],
      "metadata": {
        "id": "b8NAh8GbIODP"
      },
      "execution_count": 54,
      "outputs": []
    },
    {
      "cell_type": "code",
      "source": [
        "model.fit(X_train,Y_train)"
      ],
      "metadata": {
        "colab": {
          "base_uri": "https://localhost:8080/",
          "height": 74
        },
        "id": "P-a3hR9SIOGX",
        "outputId": "a7386c4a-6215-4131-d9d8-9cfe2644c870"
      },
      "execution_count": 55,
      "outputs": [
        {
          "output_type": "execute_result",
          "data": {
            "text/plain": [
              "LinearRegression()"
            ],
            "text/html": [
              "<style>#sk-container-id-1 {color: black;background-color: white;}#sk-container-id-1 pre{padding: 0;}#sk-container-id-1 div.sk-toggleable {background-color: white;}#sk-container-id-1 label.sk-toggleable__label {cursor: pointer;display: block;width: 100%;margin-bottom: 0;padding: 0.3em;box-sizing: border-box;text-align: center;}#sk-container-id-1 label.sk-toggleable__label-arrow:before {content: \"▸\";float: left;margin-right: 0.25em;color: #696969;}#sk-container-id-1 label.sk-toggleable__label-arrow:hover:before {color: black;}#sk-container-id-1 div.sk-estimator:hover label.sk-toggleable__label-arrow:before {color: black;}#sk-container-id-1 div.sk-toggleable__content {max-height: 0;max-width: 0;overflow: hidden;text-align: left;background-color: #f0f8ff;}#sk-container-id-1 div.sk-toggleable__content pre {margin: 0.2em;color: black;border-radius: 0.25em;background-color: #f0f8ff;}#sk-container-id-1 input.sk-toggleable__control:checked~div.sk-toggleable__content {max-height: 200px;max-width: 100%;overflow: auto;}#sk-container-id-1 input.sk-toggleable__control:checked~label.sk-toggleable__label-arrow:before {content: \"▾\";}#sk-container-id-1 div.sk-estimator input.sk-toggleable__control:checked~label.sk-toggleable__label {background-color: #d4ebff;}#sk-container-id-1 div.sk-label input.sk-toggleable__control:checked~label.sk-toggleable__label {background-color: #d4ebff;}#sk-container-id-1 input.sk-hidden--visually {border: 0;clip: rect(1px 1px 1px 1px);clip: rect(1px, 1px, 1px, 1px);height: 1px;margin: -1px;overflow: hidden;padding: 0;position: absolute;width: 1px;}#sk-container-id-1 div.sk-estimator {font-family: monospace;background-color: #f0f8ff;border: 1px dotted black;border-radius: 0.25em;box-sizing: border-box;margin-bottom: 0.5em;}#sk-container-id-1 div.sk-estimator:hover {background-color: #d4ebff;}#sk-container-id-1 div.sk-parallel-item::after {content: \"\";width: 100%;border-bottom: 1px solid gray;flex-grow: 1;}#sk-container-id-1 div.sk-label:hover label.sk-toggleable__label {background-color: #d4ebff;}#sk-container-id-1 div.sk-serial::before {content: \"\";position: absolute;border-left: 1px solid gray;box-sizing: border-box;top: 0;bottom: 0;left: 50%;z-index: 0;}#sk-container-id-1 div.sk-serial {display: flex;flex-direction: column;align-items: center;background-color: white;padding-right: 0.2em;padding-left: 0.2em;position: relative;}#sk-container-id-1 div.sk-item {position: relative;z-index: 1;}#sk-container-id-1 div.sk-parallel {display: flex;align-items: stretch;justify-content: center;background-color: white;position: relative;}#sk-container-id-1 div.sk-item::before, #sk-container-id-1 div.sk-parallel-item::before {content: \"\";position: absolute;border-left: 1px solid gray;box-sizing: border-box;top: 0;bottom: 0;left: 50%;z-index: -1;}#sk-container-id-1 div.sk-parallel-item {display: flex;flex-direction: column;z-index: 1;position: relative;background-color: white;}#sk-container-id-1 div.sk-parallel-item:first-child::after {align-self: flex-end;width: 50%;}#sk-container-id-1 div.sk-parallel-item:last-child::after {align-self: flex-start;width: 50%;}#sk-container-id-1 div.sk-parallel-item:only-child::after {width: 0;}#sk-container-id-1 div.sk-dashed-wrapped {border: 1px dashed gray;margin: 0 0.4em 0.5em 0.4em;box-sizing: border-box;padding-bottom: 0.4em;background-color: white;}#sk-container-id-1 div.sk-label label {font-family: monospace;font-weight: bold;display: inline-block;line-height: 1.2em;}#sk-container-id-1 div.sk-label-container {text-align: center;}#sk-container-id-1 div.sk-container {/* jupyter's `normalize.less` sets `[hidden] { display: none; }` but bootstrap.min.css set `[hidden] { display: none !important; }` so we also need the `!important` here to be able to override the default hidden behavior on the sphinx rendered scikit-learn.org. See: https://github.com/scikit-learn/scikit-learn/issues/21755 */display: inline-block !important;position: relative;}#sk-container-id-1 div.sk-text-repr-fallback {display: none;}</style><div id=\"sk-container-id-1\" class=\"sk-top-container\"><div class=\"sk-text-repr-fallback\"><pre>LinearRegression()</pre><b>In a Jupyter environment, please rerun this cell to show the HTML representation or trust the notebook. <br />On GitHub, the HTML representation is unable to render, please try loading this page with nbviewer.org.</b></div><div class=\"sk-container\" hidden><div class=\"sk-item\"><div class=\"sk-estimator sk-toggleable\"><input class=\"sk-toggleable__control sk-hidden--visually\" id=\"sk-estimator-id-1\" type=\"checkbox\" checked><label for=\"sk-estimator-id-1\" class=\"sk-toggleable__label sk-toggleable__label-arrow\">LinearRegression</label><div class=\"sk-toggleable__content\"><pre>LinearRegression()</pre></div></div></div></div></div>"
            ]
          },
          "metadata": {},
          "execution_count": 55
        }
      ]
    },
    {
      "cell_type": "code",
      "source": [
        "model.score(X_train,X_train)"
      ],
      "metadata": {
        "colab": {
          "base_uri": "https://localhost:8080/"
        },
        "id": "xJrNmP0UIOJX",
        "outputId": "9c5a33b8-eb4a-4a4d-c198-fa165323ab84"
      },
      "execution_count": 56,
      "outputs": [
        {
          "output_type": "execute_result",
          "data": {
            "text/plain": [
              "-112.33132507674402"
            ]
          },
          "metadata": {},
          "execution_count": 56
        }
      ]
    },
    {
      "cell_type": "markdown",
      "source": [
        "low bias\n",
        "plt.threading0.9\n",
        "\n",
        "high variance\n",
        "testing\n",
        "0.5\n",
        "\n",
        "#i can use regulaztion technique"
      ],
      "metadata": {
        "id": "76x92cwWnzBf"
      }
    },
    {
      "cell_type": "markdown",
      "source": [
        "0-1\n",
        "if we are getting are r2 value near to 1 that model will best model"
      ],
      "metadata": {
        "id": "VuTHpAidhK3U"
      }
    },
    {
      "cell_type": "markdown",
      "source": [],
      "metadata": {
        "id": "Db6WyHo_mbYG"
      }
    },
    {
      "cell_type": "code",
      "source": [
        "X_test"
      ],
      "metadata": {
        "colab": {
          "base_uri": "https://localhost:8080/",
          "height": 423
        },
        "id": "pGPXd9w9IOMx",
        "outputId": "923d3349-c53e-4c1d-abce-12aed8e7eaad"
      },
      "execution_count": 58,
      "outputs": [
        {
          "output_type": "execute_result",
          "data": {
            "text/plain": [
              "     cgpa\n",
              "521  5.72\n",
              "737  6.52\n",
              "740  6.21\n",
              "660  5.97\n",
              "411  6.04\n",
              "..    ...\n",
              "914  6.97\n",
              "810  7.14\n",
              "244  7.68\n",
              "822  7.33\n",
              "321  6.82\n",
              "\n",
              "[150 rows x 1 columns]"
            ],
            "text/html": [
              "\n",
              "  <div id=\"df-ec29fa28-b758-4497-97af-ab8c2ca6d6df\" class=\"colab-df-container\">\n",
              "    <div>\n",
              "<style scoped>\n",
              "    .dataframe tbody tr th:only-of-type {\n",
              "        vertical-align: middle;\n",
              "    }\n",
              "\n",
              "    .dataframe tbody tr th {\n",
              "        vertical-align: top;\n",
              "    }\n",
              "\n",
              "    .dataframe thead th {\n",
              "        text-align: right;\n",
              "    }\n",
              "</style>\n",
              "<table border=\"1\" class=\"dataframe\">\n",
              "  <thead>\n",
              "    <tr style=\"text-align: right;\">\n",
              "      <th></th>\n",
              "      <th>cgpa</th>\n",
              "    </tr>\n",
              "  </thead>\n",
              "  <tbody>\n",
              "    <tr>\n",
              "      <th>521</th>\n",
              "      <td>5.72</td>\n",
              "    </tr>\n",
              "    <tr>\n",
              "      <th>737</th>\n",
              "      <td>6.52</td>\n",
              "    </tr>\n",
              "    <tr>\n",
              "      <th>740</th>\n",
              "      <td>6.21</td>\n",
              "    </tr>\n",
              "    <tr>\n",
              "      <th>660</th>\n",
              "      <td>5.97</td>\n",
              "    </tr>\n",
              "    <tr>\n",
              "      <th>411</th>\n",
              "      <td>6.04</td>\n",
              "    </tr>\n",
              "    <tr>\n",
              "      <th>...</th>\n",
              "      <td>...</td>\n",
              "    </tr>\n",
              "    <tr>\n",
              "      <th>914</th>\n",
              "      <td>6.97</td>\n",
              "    </tr>\n",
              "    <tr>\n",
              "      <th>810</th>\n",
              "      <td>7.14</td>\n",
              "    </tr>\n",
              "    <tr>\n",
              "      <th>244</th>\n",
              "      <td>7.68</td>\n",
              "    </tr>\n",
              "    <tr>\n",
              "      <th>822</th>\n",
              "      <td>7.33</td>\n",
              "    </tr>\n",
              "    <tr>\n",
              "      <th>321</th>\n",
              "      <td>6.82</td>\n",
              "    </tr>\n",
              "  </tbody>\n",
              "</table>\n",
              "<p>150 rows × 1 columns</p>\n",
              "</div>\n",
              "    <div class=\"colab-df-buttons\">\n",
              "\n",
              "  <div class=\"colab-df-container\">\n",
              "    <button class=\"colab-df-convert\" onclick=\"convertToInteractive('df-ec29fa28-b758-4497-97af-ab8c2ca6d6df')\"\n",
              "            title=\"Convert this dataframe to an interactive table.\"\n",
              "            style=\"display:none;\">\n",
              "\n",
              "  <svg xmlns=\"http://www.w3.org/2000/svg\" height=\"24px\" viewBox=\"0 -960 960 960\">\n",
              "    <path d=\"M120-120v-720h720v720H120Zm60-500h600v-160H180v160Zm220 220h160v-160H400v160Zm0 220h160v-160H400v160ZM180-400h160v-160H180v160Zm440 0h160v-160H620v160ZM180-180h160v-160H180v160Zm440 0h160v-160H620v160Z\"/>\n",
              "  </svg>\n",
              "    </button>\n",
              "\n",
              "  <style>\n",
              "    .colab-df-container {\n",
              "      display:flex;\n",
              "      gap: 12px;\n",
              "    }\n",
              "\n",
              "    .colab-df-convert {\n",
              "      background-color: #E8F0FE;\n",
              "      border: none;\n",
              "      border-radius: 50%;\n",
              "      cursor: pointer;\n",
              "      display: none;\n",
              "      fill: #1967D2;\n",
              "      height: 32px;\n",
              "      padding: 0 0 0 0;\n",
              "      width: 32px;\n",
              "    }\n",
              "\n",
              "    .colab-df-convert:hover {\n",
              "      background-color: #E2EBFA;\n",
              "      box-shadow: 0px 1px 2px rgba(60, 64, 67, 0.3), 0px 1px 3px 1px rgba(60, 64, 67, 0.15);\n",
              "      fill: #174EA6;\n",
              "    }\n",
              "\n",
              "    .colab-df-buttons div {\n",
              "      margin-bottom: 4px;\n",
              "    }\n",
              "\n",
              "    [theme=dark] .colab-df-convert {\n",
              "      background-color: #3B4455;\n",
              "      fill: #D2E3FC;\n",
              "    }\n",
              "\n",
              "    [theme=dark] .colab-df-convert:hover {\n",
              "      background-color: #434B5C;\n",
              "      box-shadow: 0px 1px 3px 1px rgba(0, 0, 0, 0.15);\n",
              "      filter: drop-shadow(0px 1px 2px rgba(0, 0, 0, 0.3));\n",
              "      fill: #FFFFFF;\n",
              "    }\n",
              "  </style>\n",
              "\n",
              "    <script>\n",
              "      const buttonEl =\n",
              "        document.querySelector('#df-ec29fa28-b758-4497-97af-ab8c2ca6d6df button.colab-df-convert');\n",
              "      buttonEl.style.display =\n",
              "        google.colab.kernel.accessAllowed ? 'block' : 'none';\n",
              "\n",
              "      async function convertToInteractive(key) {\n",
              "        const element = document.querySelector('#df-ec29fa28-b758-4497-97af-ab8c2ca6d6df');\n",
              "        const dataTable =\n",
              "          await google.colab.kernel.invokeFunction('convertToInteractive',\n",
              "                                                    [key], {});\n",
              "        if (!dataTable) return;\n",
              "\n",
              "        const docLinkHtml = 'Like what you see? Visit the ' +\n",
              "          '<a target=\"_blank\" href=https://colab.research.google.com/notebooks/data_table.ipynb>data table notebook</a>'\n",
              "          + ' to learn more about interactive tables.';\n",
              "        element.innerHTML = '';\n",
              "        dataTable['output_type'] = 'display_data';\n",
              "        await google.colab.output.renderOutput(dataTable, element);\n",
              "        const docLink = document.createElement('div');\n",
              "        docLink.innerHTML = docLinkHtml;\n",
              "        element.appendChild(docLink);\n",
              "      }\n",
              "    </script>\n",
              "  </div>\n",
              "\n",
              "\n",
              "<div id=\"df-1a92760c-fa7a-46f6-98f4-9084ebdf10a4\">\n",
              "  <button class=\"colab-df-quickchart\" onclick=\"quickchart('df-1a92760c-fa7a-46f6-98f4-9084ebdf10a4')\"\n",
              "            title=\"Suggest charts.\"\n",
              "            style=\"display:none;\">\n",
              "\n",
              "<svg xmlns=\"http://www.w3.org/2000/svg\" height=\"24px\"viewBox=\"0 0 24 24\"\n",
              "     width=\"24px\">\n",
              "    <g>\n",
              "        <path d=\"M19 3H5c-1.1 0-2 .9-2 2v14c0 1.1.9 2 2 2h14c1.1 0 2-.9 2-2V5c0-1.1-.9-2-2-2zM9 17H7v-7h2v7zm4 0h-2V7h2v10zm4 0h-2v-4h2v4z\"/>\n",
              "    </g>\n",
              "</svg>\n",
              "  </button>\n",
              "\n",
              "<style>\n",
              "  .colab-df-quickchart {\n",
              "      --bg-color: #E8F0FE;\n",
              "      --fill-color: #1967D2;\n",
              "      --hover-bg-color: #E2EBFA;\n",
              "      --hover-fill-color: #174EA6;\n",
              "      --disabled-fill-color: #AAA;\n",
              "      --disabled-bg-color: #DDD;\n",
              "  }\n",
              "\n",
              "  [theme=dark] .colab-df-quickchart {\n",
              "      --bg-color: #3B4455;\n",
              "      --fill-color: #D2E3FC;\n",
              "      --hover-bg-color: #434B5C;\n",
              "      --hover-fill-color: #FFFFFF;\n",
              "      --disabled-bg-color: #3B4455;\n",
              "      --disabled-fill-color: #666;\n",
              "  }\n",
              "\n",
              "  .colab-df-quickchart {\n",
              "    background-color: var(--bg-color);\n",
              "    border: none;\n",
              "    border-radius: 50%;\n",
              "    cursor: pointer;\n",
              "    display: none;\n",
              "    fill: var(--fill-color);\n",
              "    height: 32px;\n",
              "    padding: 0;\n",
              "    width: 32px;\n",
              "  }\n",
              "\n",
              "  .colab-df-quickchart:hover {\n",
              "    background-color: var(--hover-bg-color);\n",
              "    box-shadow: 0 1px 2px rgba(60, 64, 67, 0.3), 0 1px 3px 1px rgba(60, 64, 67, 0.15);\n",
              "    fill: var(--button-hover-fill-color);\n",
              "  }\n",
              "\n",
              "  .colab-df-quickchart-complete:disabled,\n",
              "  .colab-df-quickchart-complete:disabled:hover {\n",
              "    background-color: var(--disabled-bg-color);\n",
              "    fill: var(--disabled-fill-color);\n",
              "    box-shadow: none;\n",
              "  }\n",
              "\n",
              "  .colab-df-spinner {\n",
              "    border: 2px solid var(--fill-color);\n",
              "    border-color: transparent;\n",
              "    border-bottom-color: var(--fill-color);\n",
              "    animation:\n",
              "      spin 1s steps(1) infinite;\n",
              "  }\n",
              "\n",
              "  @keyframes spin {\n",
              "    0% {\n",
              "      border-color: transparent;\n",
              "      border-bottom-color: var(--fill-color);\n",
              "      border-left-color: var(--fill-color);\n",
              "    }\n",
              "    20% {\n",
              "      border-color: transparent;\n",
              "      border-left-color: var(--fill-color);\n",
              "      border-top-color: var(--fill-color);\n",
              "    }\n",
              "    30% {\n",
              "      border-color: transparent;\n",
              "      border-left-color: var(--fill-color);\n",
              "      border-top-color: var(--fill-color);\n",
              "      border-right-color: var(--fill-color);\n",
              "    }\n",
              "    40% {\n",
              "      border-color: transparent;\n",
              "      border-right-color: var(--fill-color);\n",
              "      border-top-color: var(--fill-color);\n",
              "    }\n",
              "    60% {\n",
              "      border-color: transparent;\n",
              "      border-right-color: var(--fill-color);\n",
              "    }\n",
              "    80% {\n",
              "      border-color: transparent;\n",
              "      border-right-color: var(--fill-color);\n",
              "      border-bottom-color: var(--fill-color);\n",
              "    }\n",
              "    90% {\n",
              "      border-color: transparent;\n",
              "      border-bottom-color: var(--fill-color);\n",
              "    }\n",
              "  }\n",
              "</style>\n",
              "\n",
              "  <script>\n",
              "    async function quickchart(key) {\n",
              "      const quickchartButtonEl =\n",
              "        document.querySelector('#' + key + ' button');\n",
              "      quickchartButtonEl.disabled = true;  // To prevent multiple clicks.\n",
              "      quickchartButtonEl.classList.add('colab-df-spinner');\n",
              "      try {\n",
              "        const charts = await google.colab.kernel.invokeFunction(\n",
              "            'suggestCharts', [key], {});\n",
              "      } catch (error) {\n",
              "        console.error('Error during call to suggestCharts:', error);\n",
              "      }\n",
              "      quickchartButtonEl.classList.remove('colab-df-spinner');\n",
              "      quickchartButtonEl.classList.add('colab-df-quickchart-complete');\n",
              "    }\n",
              "    (() => {\n",
              "      let quickchartButtonEl =\n",
              "        document.querySelector('#df-1a92760c-fa7a-46f6-98f4-9084ebdf10a4 button');\n",
              "      quickchartButtonEl.style.display =\n",
              "        google.colab.kernel.accessAllowed ? 'block' : 'none';\n",
              "    })();\n",
              "  </script>\n",
              "</div>\n",
              "    </div>\n",
              "  </div>\n"
            ]
          },
          "metadata": {},
          "execution_count": 58
        }
      ]
    },
    {
      "cell_type": "code",
      "source": [
        "#THIS WAS MY BULK PREDICTIONS\n",
        "y_pred=model.predict(X_test)\n"
      ],
      "metadata": {
        "id": "A6BPV9d0h4dH"
      },
      "execution_count": 72,
      "outputs": []
    },
    {
      "cell_type": "code",
      "source": [
        "y_test"
      ],
      "metadata": {
        "colab": {
          "base_uri": "https://localhost:8080/"
        },
        "id": "DTzNYocTIOQC",
        "outputId": "38cdef67-f676-4caa-a240-d94058ec0ca5"
      },
      "execution_count": 59,
      "outputs": [
        {
          "output_type": "execute_result",
          "data": {
            "text/plain": [
              "521    1\n",
              "737    1\n",
              "740    1\n",
              "660    1\n",
              "411    0\n",
              "      ..\n",
              "914    0\n",
              "810    1\n",
              "244    0\n",
              "822    1\n",
              "321    0\n",
              "Name: placed, Length: 150, dtype: int64"
            ]
          },
          "metadata": {},
          "execution_count": 59
        }
      ]
    },
    {
      "cell_type": "code",
      "source": [
        "from sklearn.metrics import r2_score"
      ],
      "metadata": {
        "id": "f0zzOpE8IOTS"
      },
      "execution_count": 61,
      "outputs": []
    },
    {
      "cell_type": "code",
      "source": [
        "r2_score(y_test, y_pred)"
      ],
      "metadata": {
        "colab": {
          "base_uri": "https://localhost:8080/"
        },
        "id": "qzr2M7DvIOWk",
        "outputId": "7dcd31ee-8724-493b-d4c2-c7cc561f98ec"
      },
      "execution_count": 63,
      "outputs": [
        {
          "output_type": "execute_result",
          "data": {
            "text/plain": [
              "0.0007170188906084896"
            ]
          },
          "metadata": {},
          "execution_count": 63
        }
      ]
    },
    {
      "cell_type": "code",
      "source": [
        "model.coef_"
      ],
      "metadata": {
        "colab": {
          "base_uri": "https://localhost:8080/"
        },
        "id": "J7BqQJTKEPWm",
        "outputId": "1e2bea58-26d4-4eeb-d906-c2f02d7fe754"
      },
      "execution_count": 64,
      "outputs": [
        {
          "output_type": "execute_result",
          "data": {
            "text/plain": [
              "array([0.0222783])"
            ]
          },
          "metadata": {},
          "execution_count": 64
        }
      ]
    },
    {
      "cell_type": "code",
      "source": [
        "model.intercept_"
      ],
      "metadata": {
        "colab": {
          "base_uri": "https://localhost:8080/"
        },
        "id": "DOMEcdTbi3U7",
        "outputId": "39bd8a75-6724-4d46-b0e5-fbc4ed246885"
      },
      "execution_count": 65,
      "outputs": [
        {
          "output_type": "execute_result",
          "data": {
            "text/plain": [
              "0.33451700885257846"
            ]
          },
          "metadata": {},
          "execution_count": 65
        }
      ]
    },
    {
      "cell_type": "code",
      "source": [
        "y=0.55*0.911"
      ],
      "metadata": {
        "id": "H5RMOK2SkScE"
      },
      "execution_count": 68,
      "outputs": []
    },
    {
      "cell_type": "code",
      "source": [
        "y=0.55*(7.8)-0.911"
      ],
      "metadata": {
        "id": "Y3oaN6ZxlA5-"
      },
      "execution_count": 70,
      "outputs": []
    },
    {
      "cell_type": "code",
      "source": [
        "y"
      ],
      "metadata": {
        "colab": {
          "base_uri": "https://localhost:8080/"
        },
        "id": "Sp51IrJzlLmI",
        "outputId": "92743631-be02-4856-a7e9-94bf31f23b12"
      },
      "execution_count": 71,
      "outputs": [
        {
          "output_type": "execute_result",
          "data": {
            "text/plain": [
              "3.379"
            ]
          },
          "metadata": {},
          "execution_count": 71
        }
      ]
    },
    {
      "cell_type": "code",
      "source": [
        "model.predict([[9.6]])"
      ],
      "metadata": {
        "colab": {
          "base_uri": "https://localhost:8080/"
        },
        "id": "La3L23Eai3X-",
        "outputId": "7feb5b6f-77a9-4f73-b3f4-ad1253cdaa4c"
      },
      "execution_count": 67,
      "outputs": [
        {
          "output_type": "stream",
          "name": "stderr",
          "text": [
            "/usr/local/lib/python3.10/dist-packages/sklearn/base.py:439: UserWarning: X does not have valid feature names, but LinearRegression was fitted with feature names\n",
            "  warnings.warn(\n"
          ]
        },
        {
          "output_type": "execute_result",
          "data": {
            "text/plain": [
              "array([0.54838873])"
            ]
          },
          "metadata": {},
          "execution_count": 67
        }
      ]
    },
    {
      "cell_type": "code",
      "source": [
        "plt.scatter(df[\"cgpa\"],df[\"placement_exam_marks\"])\n",
        "plt.plot(X_train,model.predict(X_train),color=\"red\")"
      ],
      "metadata": {
        "colab": {
          "base_uri": "https://localhost:8080/",
          "height": 447
        },
        "id": "YuM1CecPi3bi",
        "outputId": "cc08c3ef-c006-4b41-cac3-51303e5d431c"
      },
      "execution_count": 69,
      "outputs": [
        {
          "output_type": "execute_result",
          "data": {
            "text/plain": [
              "[<matplotlib.lines.Line2D at 0x7e930236c610>]"
            ]
          },
          "metadata": {},
          "execution_count": 69
        },
        {
          "output_type": "display_data",
          "data": {
            "text/plain": [
              "<Figure size 640x480 with 1 Axes>"
            ],
            "image/png": "[encoded data removed]"
          },
          "metadata": {}
        }
      ]
    },
    {
      "cell_type": "code",
      "source": [
        "#multiple lnear regression"
      ],
      "metadata": {
        "id": "kLfyQKR5i3e9"
      },
      "execution_count": null,
      "outputs": []
    },
    {
      "cell_type": "code",
      "source": [
        "from sklearn.datasets import make_regression\n",
        "X,y=make_regression(n_samples=150,n_features=2,n_targets=1,noise=40)"
      ],
      "metadata": {
        "id": "GCM3fZhvi3iE"
      },
      "execution_count": 78,
      "outputs": []
    },
    {
      "cell_type": "code",
      "source": [
        "y"
      ],
      "metadata": {
        "colab": {
          "base_uri": "https://localhost:8080/"
        },
        "id": "ITy5z78-i3lO",
        "outputId": "d391b227-fdf6-4d87-fd73-a9b6a5531dee"
      },
      "execution_count": 79,
      "outputs": [
        {
          "output_type": "execute_result",
          "data": {
            "text/plain": [
              "array([ 4.15014681e+01, -1.10916715e+01, -2.50566636e+01, -1.55058075e+02,\n",
              "        6.21225947e+01,  2.10829144e+02, -2.99135998e+01,  8.95487534e+01,\n",
              "       -1.54722254e+02, -2.66416897e+01, -1.00230233e+02, -9.96677064e+01,\n",
              "        2.58942166e+00,  1.55892744e+02,  4.43099811e+01, -1.49941224e+02,\n",
              "        3.24915559e+01,  2.17691722e+02, -1.68467099e+02,  4.91029173e+01,\n",
              "        1.12313259e+02,  1.95733473e+02, -1.79832888e+02,  1.97545582e+02,\n",
              "       -2.04227456e+02,  1.79890533e+02,  1.08898199e+02,  5.85811672e+01,\n",
              "        3.55640058e+01, -1.46844940e+02,  1.54700757e+02, -3.76221345e+01,\n",
              "       -2.15811527e+02,  1.64795048e+02,  3.07366957e+02, -1.62010586e+02,\n",
              "        2.19159852e+02,  3.81477793e+01, -5.31673475e+01, -3.38216366e+01,\n",
              "        1.07960733e+02,  7.79833575e+01,  2.21319414e+02,  1.56904105e+01,\n",
              "        8.09699876e+01, -1.78326840e+02,  4.10151347e+01, -6.25495486e+01,\n",
              "       -8.03353046e+00,  3.02076923e+02,  2.03191350e+02,  4.81152073e+01,\n",
              "       -7.77977767e+01, -1.64960482e+02,  7.01338369e+01, -6.42291867e+01,\n",
              "        5.38642335e+01,  9.77921339e+01, -6.61245610e+01, -2.13830109e+02,\n",
              "        4.90569103e+01,  2.24051590e+02, -1.10146157e+02, -4.35598283e+01,\n",
              "       -5.94632537e+01,  1.19945114e+02, -1.40156409e+01, -1.82549191e+02,\n",
              "        1.28497070e+02, -1.51964921e+02,  2.62360132e+02,  9.78793094e+01,\n",
              "        2.25823873e+02, -1.49644938e+02, -1.06241334e+02, -1.77478158e+02,\n",
              "        2.33614409e+01,  1.52803121e+02,  7.70100189e+01,  3.34598924e+01,\n",
              "       -4.79234095e+01,  7.30566634e+01, -1.29824904e+02, -2.58678022e+01,\n",
              "       -6.15572470e+00,  8.94100253e+01, -6.04102997e+01, -9.46967168e+00,\n",
              "        6.97611971e+01, -1.78652346e+02,  3.52291941e+01, -1.45210193e+02,\n",
              "        6.77168070e+01,  1.52475096e+02, -3.08891919e+02,  5.62740839e+01,\n",
              "        1.28585259e+02, -6.76305724e+01, -1.41835010e+02,  4.09111817e+01,\n",
              "        1.07954102e+02, -3.65560603e+01, -3.99602346e+01,  1.72309182e+02,\n",
              "        2.68280282e+02, -2.54316815e-01, -8.43110146e+00, -1.09356626e+02,\n",
              "       -1.69359216e+02,  1.92331744e+02,  1.02569470e+02,  1.25683693e+02,\n",
              "        7.86820186e+01, -3.67667944e+01, -1.71256244e+02, -1.38485281e+01,\n",
              "       -4.45337596e+01, -5.95832243e+01, -1.60658745e+02, -1.39478672e+02,\n",
              "       -7.87045463e+01,  3.20737415e+02,  1.19476351e+02,  6.31353894e+01,\n",
              "        4.75440311e+01,  1.24935410e+02, -4.73388009e+00,  1.42760675e+02,\n",
              "        1.14264555e+02, -1.18452191e+01,  2.67031198e+01,  1.25671025e+01,\n",
              "       -8.67777350e+00,  1.16164312e+01,  1.44999938e+02, -1.19249061e+02,\n",
              "        1.64725736e+02, -9.75043852e+01, -6.52192263e+01, -7.94683196e+01,\n",
              "        5.56898860e+01, -8.00652363e+01, -6.92619913e+00, -5.80578519e+00,\n",
              "        8.43499288e+01, -1.41639569e+01, -5.18742425e+01,  8.34177680e+01,\n",
              "       -1.03343853e+02,  4.04965777e+02])"
            ]
          },
          "metadata": {},
          "execution_count": 79
        }
      ]
    },
    {
      "cell_type": "code",
      "source": [
        "X"
      ],
      "metadata": {
        "colab": {
          "base_uri": "https://localhost:8080/"
        },
        "id": "tOOriZtCrWNM",
        "outputId": "4cd82a38-a73a-4d86-d3df-4cf89c4778a9"
      },
      "execution_count": 81,
      "outputs": [
        {
          "output_type": "execute_result",
          "data": {
            "text/plain": [
              "array([[ 1.70211710e+00, -1.03092720e+00],\n",
              "       [ 5.23313736e-01, -7.42763651e-01],\n",
              "       [-8.00439492e-01,  2.40981190e-02],\n",
              "       [-6.68329088e-01, -4.63603075e-01],\n",
              "       [-4.83517722e-01,  9.93498103e-01],\n",
              "       [ 6.02531588e-01,  1.35353522e+00],\n",
              "       [ 1.68657152e-01, -7.93694863e-01],\n",
              "       [ 9.75967713e-01, -5.63512751e-02],\n",
              "       [-1.37484534e+00,  4.71986813e-01],\n",
              "       [ 4.80358169e-01, -7.99172062e-01],\n",
              "       [-4.47841387e-01, -7.75006544e-01],\n",
              "       [-6.58127031e-01, -1.76629894e-01],\n",
              "       [ 8.31777390e-01, -3.80421164e-01],\n",
              "       [ 5.61984967e-01,  5.71359448e-01],\n",
              "       [ 6.68624282e-01,  8.90237682e-01],\n",
              "       [-5.21291211e-01, -1.18501402e+00],\n",
              "       [-5.79795496e-01,  1.18482804e+00],\n",
              "       [ 2.71046749e-01,  1.44012391e+00],\n",
              "       [-2.64163030e-01, -1.02143046e+00],\n",
              "       [ 5.90970788e-01,  6.36975393e-01],\n",
              "       [-2.11370573e-01,  9.65056752e-01],\n",
              "       [ 8.81183416e-01,  9.71606919e-01],\n",
              "       [-1.59163164e+00, -6.81877524e-01],\n",
              "       [ 1.76400228e+00,  5.23772141e-01],\n",
              "       [-5.55668586e-01, -1.72292897e+00],\n",
              "       [ 1.24776634e+00,  2.69328386e-01],\n",
              "       [ 1.58245275e+00,  2.79064364e-03],\n",
              "       [ 5.49254759e-01,  3.95929386e-01],\n",
              "       [ 2.04519467e+00, -7.20382425e-01],\n",
              "       [-1.19790651e+00,  2.95122222e-01],\n",
              "       [ 9.28002124e-01, -1.81172999e-01],\n",
              "       [ 5.01280429e-03, -7.18464626e-01],\n",
              "       [-1.12354320e+00, -7.81149642e-01],\n",
              "       [ 1.52297573e+00, -3.17547564e-01],\n",
              "       [ 8.82419032e-01,  1.79760601e+00],\n",
              "       [-1.89954123e+00, -1.22796644e-01],\n",
              "       [ 4.10924485e-01,  9.41369326e-01],\n",
              "       [ 1.68491589e+00, -1.36392516e+00],\n",
              "       [-1.07326514e+00,  1.65416408e-01],\n",
              "       [-1.08910437e+00,  2.51116947e-01],\n",
              "       [ 1.50643588e+00, -3.53438775e-01],\n",
              "       [ 1.55839978e+00, -6.14969011e-01],\n",
              "       [ 7.95081905e-01,  1.93281968e+00],\n",
              "       [-5.09136198e-01,  4.83221888e-01],\n",
              "       [ 5.20819497e-01,  7.37861673e-01],\n",
              "       [-1.44974730e+00, -4.63541602e-01],\n",
              "       [ 1.34408540e+00, -6.93714340e-01],\n",
              "       [ 1.00667264e+00, -1.14673606e+00],\n",
              "       [-4.99486590e-01,  4.60464201e-01],\n",
              "       [ 1.40881097e+00,  1.51597932e+00],\n",
              "       [ 1.83416845e+00,  6.15472318e-01],\n",
              "       [ 1.24134787e+00, -5.45096916e-01],\n",
              "       [-1.36488496e+00,  2.61476543e-01],\n",
              "       [-1.49041195e+00, -1.35701200e-01],\n",
              "       [ 2.01633072e+00, -1.01212983e+00],\n",
              "       [-1.21077303e-01, -5.84321374e-01],\n",
              "       [ 4.39101000e-01, -3.00886493e-01],\n",
              "       [ 7.60889930e-01, -6.40537909e-01],\n",
              "       [-2.22537155e-01, -3.96450860e-01],\n",
              "       [-2.25947688e+00, -4.58748470e-01],\n",
              "       [ 1.14471381e+00, -4.92785609e-01],\n",
              "       [ 8.47797175e-01,  1.88461160e+00],\n",
              "       [-1.93400185e+00,  1.24151904e+00],\n",
              "       [-5.10373120e-01, -5.86819240e-02],\n",
              "       [-9.47998289e-02, -8.18358346e-01],\n",
              "       [-5.29528309e-01,  1.41620124e+00],\n",
              "       [ 3.27873506e-01, -9.60101755e-01],\n",
              "       [-1.42353129e+00, -7.79590249e-01],\n",
              "       [ 8.36472739e-01,  2.68611506e-01],\n",
              "       [ 7.15045382e-02, -1.19058630e+00],\n",
              "       [ 1.87699506e+00,  9.62729877e-01],\n",
              "       [ 1.42869770e-01,  4.52053513e-01],\n",
              "       [ 1.80300205e+00,  8.38127162e-01],\n",
              "       [-1.52973389e+00,  1.11044933e-01],\n",
              "       [-1.37915068e-01, -7.15400500e-01],\n",
              "       [-1.68891926e+00, -1.23039168e-02],\n",
              "       [-5.62278334e-01,  8.07356387e-01],\n",
              "       [ 1.36237911e+00,  2.54830042e-01],\n",
              "       [-1.74614321e-01,  2.68351929e-01],\n",
              "       [ 3.93502299e-01, -4.89461971e-01],\n",
              "       [-6.73943652e-01, -6.23042990e-02],\n",
              "       [-1.86830711e-01,  1.70891056e+00],\n",
              "       [ 7.59327964e-01, -1.48755678e+00],\n",
              "       [-4.50461007e-01,  1.86990928e-01],\n",
              "       [ 7.93407524e-01, -1.11213143e+00],\n",
              "       [ 2.82152290e-01,  6.13433830e-01],\n",
              "       [-3.06394526e-01,  3.74007819e-01],\n",
              "       [-7.83723677e-01,  9.61708114e-01],\n",
              "       [ 1.77270225e+00, -1.11635406e+00],\n",
              "       [-2.05086373e+00,  5.22981461e-01],\n",
              "       [-4.06804842e-01,  4.66876552e-01],\n",
              "       [ 1.37585359e+00, -2.26658431e+00],\n",
              "       [ 2.30731178e+00, -1.23734405e+00],\n",
              "       [ 3.16404938e-01,  1.29507375e+00],\n",
              "       [-5.69530903e-01, -1.94597643e+00],\n",
              "       [ 9.63596636e-01, -2.33702257e-01],\n",
              "       [ 7.06880502e-01, -3.10146433e-01],\n",
              "       [ 5.55695849e-01, -7.30276062e-01],\n",
              "       [ 4.98425869e-02, -1.04758870e+00],\n",
              "       [ 4.09921607e-01, -4.08534111e-01],\n",
              "       [ 1.12891487e+00,  1.00206628e-01],\n",
              "       [ 1.57465283e+00, -1.13734262e+00],\n",
              "       [-1.77176653e-01, -2.36957420e-01],\n",
              "       [ 1.33659075e+00,  2.82704736e-01],\n",
              "       [ 1.77378818e+00,  1.19365383e+00],\n",
              "       [ 8.88224344e-01, -6.34264015e-01],\n",
              "       [ 6.81286206e-01, -5.53420460e-01],\n",
              "       [ 5.40725650e-02, -1.03698195e+00],\n",
              "       [-1.93295542e+00,  7.45730201e-01],\n",
              "       [ 2.26240838e-01,  1.54532520e+00],\n",
              "       [ 2.67026628e-01,  2.96622105e-01],\n",
              "       [ 4.96285621e-01,  2.64742495e-01],\n",
              "       [ 2.40548309e-01,  5.14456503e-01],\n",
              "       [ 6.12137383e-02, -2.71831932e-01],\n",
              "       [-4.69736369e-01, -1.16520476e+00],\n",
              "       [-3.70738133e-01, -4.18927739e-01],\n",
              "       [-1.10358404e+00,  6.48973621e-01],\n",
              "       [-5.32874855e-01,  8.24852151e-01],\n",
              "       [-1.41313267e+00,  2.82645543e-01],\n",
              "       [-4.75497751e-01, -3.85359543e-01],\n",
              "       [-1.95749557e-01, -1.03471120e+00],\n",
              "       [ 3.55548784e-01,  2.07283412e+00],\n",
              "       [ 2.54810284e-01,  2.43798058e-01],\n",
              "       [-7.87637405e-02,  6.54934661e-01],\n",
              "       [ 4.72206036e-01,  2.12150634e-02],\n",
              "       [ 1.01791098e+00,  7.52399695e-01],\n",
              "       [ 2.11798071e+00, -1.65683488e+00],\n",
              "       [ 1.61331799e+00,  6.52938201e-01],\n",
              "       [ 1.32930823e+00, -5.61768230e-02],\n",
              "       [-6.33605882e-01,  2.30517218e-02],\n",
              "       [ 3.19031289e-01, -2.60764956e-01],\n",
              "       [ 9.58943849e-01, -8.27758929e-01],\n",
              "       [-1.49359355e-01, -1.54783564e-02],\n",
              "       [-5.65809461e-01,  7.87431180e-01],\n",
              "       [ 1.11407401e+00,  4.86065540e-01],\n",
              "       [-7.02893536e-01, -9.88381561e-01],\n",
              "       [ 7.45757396e-01,  9.28775364e-01],\n",
              "       [-1.15649801e+00, -2.17484745e-01],\n",
              "       [-3.63156447e-01, -6.73790161e-01],\n",
              "       [-1.66600479e-01, -6.97296204e-01],\n",
              "       [-5.16255084e-01,  1.42198744e+00],\n",
              "       [-4.36030204e-01,  7.06058800e-01],\n",
              "       [-1.09366414e+00,  8.45375019e-01],\n",
              "       [-2.24017876e-01, -1.74785482e-01],\n",
              "       [ 7.94750722e-01,  2.64243026e-01],\n",
              "       [-1.76830451e-01, -3.03567091e-01],\n",
              "       [ 3.95258919e-01, -1.48407338e+00],\n",
              "       [ 2.39044452e+00, -1.26805979e+00],\n",
              "       [-1.60390455e+00,  1.06298051e+00],\n",
              "       [ 3.12279461e+00,  1.34884713e+00]])"
            ]
          },
          "metadata": {},
          "execution_count": 81
        }
      ]
    },
    {
      "cell_type": "code",
      "source": [
        "df=pd.Dataframe({'feature1':X[:,0],'feature2':X[:,1],'target':y})"
      ],
      "metadata": {
        "id": "CxcFJS-6qpKp"
      },
      "execution_count": 82,
      "outputs": []
    },
    {
      "cell_type": "code",
      "source": [
        "df.head()"
      ],
      "metadata": {
        "colab": {
          "base_uri": "https://localhost:8080/",
          "height": 206
        },
        "id": "A3scQbExqpOU",
        "outputId": "bcdd8ff3-de9c-4326-b513-c51d747b57b4"
      },
      "execution_count": 83,
      "outputs": [
        {
          "output_type": "execute_result",
          "data": {
            "text/plain": [
              "   cgpa  placement_exam_marks  placed\n",
              "0  7.19                  26.0       1\n",
              "1  7.46                  38.0       1\n",
              "2  7.54                  40.0       1\n",
              "3  6.42                   8.0       1\n",
              "4  7.23                  17.0       0"
            ],
            "text/html": [
              "\n",
              "  <div id=\"df-b4688879-091c-420b-a302-ae7b9b4bcb75\" class=\"colab-df-container\">\n",
              "    <div>\n",
              "<style scoped>\n",
              "    .dataframe tbody tr th:only-of-type {\n",
              "        vertical-align: middle;\n",
              "    }\n",
              "\n",
              "    .dataframe tbody tr th {\n",
              "        vertical-align: top;\n",
              "    }\n",
              "\n",
              "    .dataframe thead th {\n",
              "        text-align: right;\n",
              "    }\n",
              "</style>\n",
              "<table border=\"1\" class=\"dataframe\">\n",
              "  <thead>\n",
              "    <tr style=\"text-align: right;\">\n",
              "      <th></th>\n",
              "      <th>cgpa</th>\n",
              "      <th>placement_exam_marks</th>\n",
              "      <th>placed</th>\n",
              "    </tr>\n",
              "  </thead>\n",
              "  <tbody>\n",
              "    <tr>\n",
              "      <th>0</th>\n",
              "      <td>7.19</td>\n",
              "      <td>26.0</td>\n",
              "      <td>1</td>\n",
              "    </tr>\n",
              "    <tr>\n",
              "      <th>1</th>\n",
              "      <td>7.46</td>\n",
              "      <td>38.0</td>\n",
              "      <td>1</td>\n",
              "    </tr>\n",
              "    <tr>\n",
              "      <th>2</th>\n",
              "      <td>7.54</td>\n",
              "      <td>40.0</td>\n",
              "      <td>1</td>\n",
              "    </tr>\n",
              "    <tr>\n",
              "      <th>3</th>\n",
              "      <td>6.42</td>\n",
              "      <td>8.0</td>\n",
              "      <td>1</td>\n",
              "    </tr>\n",
              "    <tr>\n",
              "      <th>4</th>\n",
              "      <td>7.23</td>\n",
              "      <td>17.0</td>\n",
              "      <td>0</td>\n",
              "    </tr>\n",
              "  </tbody>\n",
              "</table>\n",
              "</div>\n",
              "    <div class=\"colab-df-buttons\">\n",
              "\n",
              "  <div class=\"colab-df-container\">\n",
              "    <button class=\"colab-df-convert\" onclick=\"convertToInteractive('df-b4688879-091c-420b-a302-ae7b9b4bcb75')\"\n",
              "            title=\"Convert this dataframe to an interactive table.\"\n",
              "            style=\"display:none;\">\n",
              "\n",
              "  <svg xmlns=\"http://www.w3.org/2000/svg\" height=\"24px\" viewBox=\"0 -960 960 960\">\n",
              "    <path d=\"M120-120v-720h720v720H120Zm60-500h600v-160H180v160Zm220 220h160v-160H400v160Zm0 220h160v-160H400v160ZM180-400h160v-160H180v160Zm440 0h160v-160H620v160ZM180-180h160v-160H180v160Zm440 0h160v-160H620v160Z\"/>\n",
              "  </svg>\n",
              "    </button>\n",
              "\n",
              "  <style>\n",
              "    .colab-df-container {\n",
              "      display:flex;\n",
              "      gap: 12px;\n",
              "    }\n",
              "\n",
              "    .colab-df-convert {\n",
              "      background-color: #E8F0FE;\n",
              "      border: none;\n",
              "      border-radius: 50%;\n",
              "      cursor: pointer;\n",
              "      display: none;\n",
              "      fill: #1967D2;\n",
              "      height: 32px;\n",
              "      padding: 0 0 0 0;\n",
              "      width: 32px;\n",
              "    }\n",
              "\n",
              "    .colab-df-convert:hover {\n",
              "      background-color: #E2EBFA;\n",
              "      box-shadow: 0px 1px 2px rgba(60, 64, 67, 0.3), 0px 1px 3px 1px rgba(60, 64, 67, 0.15);\n",
              "      fill: #174EA6;\n",
              "    }\n",
              "\n",
              "    .colab-df-buttons div {\n",
              "      margin-bottom: 4px;\n",
              "    }\n",
              "\n",
              "    [theme=dark] .colab-df-convert {\n",
              "      background-color: #3B4455;\n",
              "      fill: #D2E3FC;\n",
              "    }\n",
              "\n",
              "    [theme=dark] .colab-df-convert:hover {\n",
              "      background-color: #434B5C;\n",
              "      box-shadow: 0px 1px 3px 1px rgba(0, 0, 0, 0.15);\n",
              "      filter: drop-shadow(0px 1px 2px rgba(0, 0, 0, 0.3));\n",
              "      fill: #FFFFFF;\n",
              "    }\n",
              "  </style>\n",
              "\n",
              "    <script>\n",
              "      const buttonEl =\n",
              "        document.querySelector('#df-b4688879-091c-420b-a302-ae7b9b4bcb75 button.colab-df-convert');\n",
              "      buttonEl.style.display =\n",
              "        google.colab.kernel.accessAllowed ? 'block' : 'none';\n",
              "\n",
              "      async function convertToInteractive(key) {\n",
              "        const element = document.querySelector('#df-b4688879-091c-420b-a302-ae7b9b4bcb75');\n",
              "        const dataTable =\n",
              "          await google.colab.kernel.invokeFunction('convertToInteractive',\n",
              "                                                    [key], {});\n",
              "        if (!dataTable) return;\n",
              "\n",
              "        const docLinkHtml = 'Like what you see? Visit the ' +\n",
              "          '<a target=\"_blank\" href=https://colab.research.google.com/notebooks/data_table.ipynb>data table notebook</a>'\n",
              "          + ' to learn more about interactive tables.';\n",
              "        element.innerHTML = '';\n",
              "        dataTable['output_type'] = 'display_data';\n",
              "        await google.colab.output.renderOutput(dataTable, element);\n",
              "        const docLink = document.createElement('div');\n",
              "        docLink.innerHTML = docLinkHtml;\n",
              "        element.appendChild(docLink);\n",
              "      }\n",
              "    </script>\n",
              "  </div>\n",
              "\n",
              "\n",
              "<div id=\"df-137ee8a8-0858-4a91-93f5-8c274c6f420e\">\n",
              "  <button class=\"colab-df-quickchart\" onclick=\"quickchart('df-137ee8a8-0858-4a91-93f5-8c274c6f420e')\"\n",
              "            title=\"Suggest charts.\"\n",
              "            style=\"display:none;\">\n",
              "\n",
              "<svg xmlns=\"http://www.w3.org/2000/svg\" height=\"24px\"viewBox=\"0 0 24 24\"\n",
              "     width=\"24px\">\n",
              "    <g>\n",
              "        <path d=\"M19 3H5c-1.1 0-2 .9-2 2v14c0 1.1.9 2 2 2h14c1.1 0 2-.9 2-2V5c0-1.1-.9-2-2-2zM9 17H7v-7h2v7zm4 0h-2V7h2v10zm4 0h-2v-4h2v4z\"/>\n",
              "    </g>\n",
              "</svg>\n",
              "  </button>\n",
              "\n",
              "<style>\n",
              "  .colab-df-quickchart {\n",
              "      --bg-color: #E8F0FE;\n",
              "      --fill-color: #1967D2;\n",
              "      --hover-bg-color: #E2EBFA;\n",
              "      --hover-fill-color: #174EA6;\n",
              "      --disabled-fill-color: #AAA;\n",
              "      --disabled-bg-color: #DDD;\n",
              "  }\n",
              "\n",
              "  [theme=dark] .colab-df-quickchart {\n",
              "      --bg-color: #3B4455;\n",
              "      --fill-color: #D2E3FC;\n",
              "      --hover-bg-color: #434B5C;\n",
              "      --hover-fill-color: #FFFFFF;\n",
              "      --disabled-bg-color: #3B4455;\n",
              "      --disabled-fill-color: #666;\n",
              "  }\n",
              "\n",
              "  .colab-df-quickchart {\n",
              "    background-color: var(--bg-color);\n",
              "    border: none;\n",
              "    border-radius: 50%;\n",
              "    cursor: pointer;\n",
              "    display: none;\n",
              "    fill: var(--fill-color);\n",
              "    height: 32px;\n",
              "    padding: 0;\n",
              "    width: 32px;\n",
              "  }\n",
              "\n",
              "  .colab-df-quickchart:hover {\n",
              "    background-color: var(--hover-bg-color);\n",
              "    box-shadow: 0 1px 2px rgba(60, 64, 67, 0.3), 0 1px 3px 1px rgba(60, 64, 67, 0.15);\n",
              "    fill: var(--button-hover-fill-color);\n",
              "  }\n",
              "\n",
              "  .colab-df-quickchart-complete:disabled,\n",
              "  .colab-df-quickchart-complete:disabled:hover {\n",
              "    background-color: var(--disabled-bg-color);\n",
              "    fill: var(--disabled-fill-color);\n",
              "    box-shadow: none;\n",
              "  }\n",
              "\n",
              "  .colab-df-spinner {\n",
              "    border: 2px solid var(--fill-color);\n",
              "    border-color: transparent;\n",
              "    border-bottom-color: var(--fill-color);\n",
              "    animation:\n",
              "      spin 1s steps(1) infinite;\n",
              "  }\n",
              "\n",
              "  @keyframes spin {\n",
              "    0% {\n",
              "      border-color: transparent;\n",
              "      border-bottom-color: var(--fill-color);\n",
              "      border-left-color: var(--fill-color);\n",
              "    }\n",
              "    20% {\n",
              "      border-color: transparent;\n",
              "      border-left-color: var(--fill-color);\n",
              "      border-top-color: var(--fill-color);\n",
              "    }\n",
              "    30% {\n",
              "      border-color: transparent;\n",
              "      border-left-color: var(--fill-color);\n",
              "      border-top-color: var(--fill-color);\n",
              "      border-right-color: var(--fill-color);\n",
              "    }\n",
              "    40% {\n",
              "      border-color: transparent;\n",
              "      border-right-color: var(--fill-color);\n",
              "      border-top-color: var(--fill-color);\n",
              "    }\n",
              "    60% {\n",
              "      border-color: transparent;\n",
              "      border-right-color: var(--fill-color);\n",
              "    }\n",
              "    80% {\n",
              "      border-color: transparent;\n",
              "      border-right-color: var(--fill-color);\n",
              "      border-bottom-color: var(--fill-color);\n",
              "    }\n",
              "    90% {\n",
              "      border-color: transparent;\n",
              "      border-bottom-color: var(--fill-color);\n",
              "    }\n",
              "  }\n",
              "</style>\n",
              "\n",
              "  <script>\n",
              "    async function quickchart(key) {\n",
              "      const quickchartButtonEl =\n",
              "        document.querySelector('#' + key + ' button');\n",
              "      quickchartButtonEl.disabled = true;  // To prevent multiple clicks.\n",
              "      quickchartButtonEl.classList.add('colab-df-spinner');\n",
              "      try {\n",
              "        const charts = await google.colab.kernel.invokeFunction(\n",
              "            'suggestCharts', [key], {});\n",
              "      } catch (error) {\n",
              "        console.error('Error during call to suggestCharts:', error);\n",
              "      }\n",
              "      quickchartButtonEl.classList.remove('colab-df-spinner');\n",
              "      quickchartButtonEl.classList.add('colab-df-quickchart-complete');\n",
              "    }\n",
              "    (() => {\n",
              "      let quickchartButtonEl =\n",
              "        document.querySelector('#df-137ee8a8-0858-4a91-93f5-8c274c6f420e button');\n",
              "      quickchartButtonEl.style.display =\n",
              "        google.colab.kernel.accessAllowed ? 'block' : 'none';\n",
              "    })();\n",
              "  </script>\n",
              "</div>\n",
              "    </div>\n",
              "  </div>\n"
            ]
          },
          "metadata": {},
          "execution_count": 83
        }
      ]
    },
    {
      "cell_type": "code",
      "source": [
        "df.shape"
      ],
      "metadata": {
        "colab": {
          "base_uri": "https://localhost:8080/"
        },
        "id": "5YyRWhrOqpTx",
        "outputId": "5aa1a61c-f6b4-4677-c21d-4ad8fc0d2354"
      },
      "execution_count": 84,
      "outputs": [
        {
          "output_type": "execute_result",
          "data": {
            "text/plain": [
              "(1000, 3)"
            ]
          },
          "metadata": {},
          "execution_count": 84
        }
      ]
    },
    {
      "cell_type": "code",
      "source": [
        "import plotly.express as px\n",
        "px.scatter_3d(df,x=\"cgpa\",y=\"placement_exam_marks\",z=\"placed\")"
      ],
      "metadata": {
        "colab": {
          "base_uri": "https://localhost:8080/",
          "height": 542
        },
        "id": "AQ5Ld3RvqpXC",
        "outputId": "c457d99d-40da-41e1-970a-b485c9665876"
      },
      "execution_count": 94,
      "outputs": [
        {
          "output_type": "display_data",
          "data": {
            "text/html": [
              "<html>\n",
              "<head><meta charset=\"utf-8\" /></head>\n",
              "<body>\n",
              "    <div>            <script src=\"https://cdnjs.cloudflare.com/ajax/libs/mathjax/2.7.5/MathJax.js?config=TeX-AMS-MML_SVG\"></script><script type=\"text/javascript\">if (window.MathJax && window.MathJax.Hub && window.MathJax.Hub.Config) {window.MathJax.Hub.Config({SVG: {font: \"STIX-Web\"}});}</script>                <script type=\"text/javascript\">window.PlotlyConfig = {MathJaxConfig: 'local'};</script>\n",
              "        <script charset=\"utf-8\" src=\"https://cdn.plot.ly/plotly-2.24.1.min.js\"></script>                <div id=\"8462e2d1-f6a1-40b7-a5a9-c991863232eb\" class=\"plotly-graph-div\" style=\"height:525px; width:100%;\"></div>            <script type=\"text/javascript\">                                    window.PLOTLYENV=window.PLOTLYENV || {};                                    if (document.getElementById(\"8462e2d1-f6a1-40b7-a5a9-c991863232eb\")) {                    Plotly.newPlot(                        \"8462e2d1-f6a1-40b7-a5a9-c991863232eb\",                        [{\"hovertemplate\":\"cgpa=%{x}\\u003cbr\\u003eplacement_exam_marks=%{y}\\u003cbr\\u003eplaced=%{z}\\u003cextra\\u003e\\u003c\\u002fextra\\u003e\",\"legendgroup\":\"\",\"marker\":{\"color\":\"#636efa\",\"symbol\":\"circle\"},\"mode\":\"markers\",\"name\":\"\",\"scene\":\"scene\",\"showlegend\":false,\"x\":[7.19,7.46,7.54,6.42,7.23,7.3,6.69,7.12,6.45,7.75,6.82,6.38,6.58,5.68,7.91,7.1,6.53,7.56,6.93,7.63,6.69,7.43,6.76,6.05,6.44,6.28,7.45,6.53,7.23,6.51,7.46,7.66,5.91,6.23,8.15,7.48,6.85,8.51,6.58,7.25,6.6,6.7,7.46,7.85,7.88,6.92,7.3,6.92,6.29,8.23,6.2,6.24,7.53,6.69,8.42,8.12,6.93,7.73,7.34,7.7,7.94,7.51,7.61,6.22,6.98,6.27,6.67,8.04,6.58,7.41,6.98,6.13,7.9,6.39,6.16,6.77,8.35,7.1,8.2,7.63,6.87,7.12,7.22,7.38,5.65,6.03,7.19,6.96,6.78,6.56,7.61,7.42,6.48,7.0,7.15,6.89,7.09,7.33,8.12,7.46,6.56,6.48,5.92,6.44,6.82,6.72,6.59,7.32,5.94,7.23,6.96,6.48,7.23,7.24,6.3,7.28,7.16,7.11,6.9,7.0,6.99,5.91,5.97,6.25,6.2,7.46,7.16,6.95,6.76,6.81,5.91,8.19,7.71,7.65,6.33,6.63,7.28,5.69,7.53,8.09,6.85,7.19,7.66,6.32,6.67,7.08,6.75,6.68,6.86,6.81,8.53,7.29,7.78,6.29,7.57,7.84,6.4,7.07,5.74,6.7,7.36,6.26,7.8,6.77,6.29,7.53,7.76,6.65,6.51,6.19,6.17,6.2,7.24,6.71,7.31,7.57,7.72,6.22,7.51,6.4,7.18,7.3,6.87,6.11,7.78,7.3,6.97,6.63,5.92,6.63,7.54,6.63,6.67,6.31,8.19,6.71,7.28,6.75,8.29,7.43,5.77,6.67,6.51,7.93,7.01,6.99,7.5,7.05,7.25,6.88,6.58,7.36,6.23,6.62,7.42,7.72,5.42,6.92,6.62,5.48,7.75,6.78,6.97,6.15,7.15,7.36,6.79,7.03,7.61,6.68,7.12,6.4,7.77,7.25,8.09,7.2,7.7,7.14,7.41,6.71,7.25,7.22,5.99,6.78,7.68,6.78,7.67,6.25,6.9,7.46,7.4,6.46,6.24,6.98,6.7,7.76,7.37,5.74,6.12,7.16,5.66,7.17,7.19,8.11,7.82,6.94,7.73,6.0,7.38,6.47,6.8,7.64,6.23,7.0,7.13,8.03,6.96,6.45,5.23,8.49,6.62,7.68,6.43,7.09,6.99,7.42,6.29,6.24,7.07,6.73,8.38,7.46,5.82,6.97,6.12,6.02,6.99,7.03,6.16,6.75,7.36,7.84,7.95,7.35,7.12,6.67,6.86,7.47,7.2,7.46,5.56,6.97,7.02,6.51,7.43,7.96,7.07,7.47,6.74,7.53,7.18,6.82,6.77,6.6,6.64,6.65,7.54,8.21,7.4,7.3,6.68,6.12,7.03,6.74,6.56,6.9,7.93,6.95,7.45,7.32,7.45,7.41,6.37,7.2,7.2,6.26,7.31,7.24,6.13,8.12,7.21,6.92,6.51,6.82,6.73,6.42,5.91,7.92,6.74,7.61,7.24,6.37,7.25,7.61,6.87,7.07,6.78,6.41,7.09,6.69,5.7,5.9,5.95,5.58,7.34,7.31,6.25,6.7,7.27,7.37,7.12,6.17,7.55,7.26,7.03,7.33,7.63,7.25,7.28,5.9,6.63,7.77,6.76,6.6,7.94,7.29,7.28,7.55,7.55,5.74,6.0,6.74,6.08,6.71,8.02,6.6,7.14,8.23,7.8,6.92,7.36,6.04,6.5,6.65,7.3,6.37,7.51,6.9,6.3,6.22,7.59,6.29,7.09,8.27,6.91,7.45,7.26,6.17,7.89,7.35,7.22,7.64,6.67,5.77,7.01,7.45,6.31,6.73,7.31,6.67,8.56,7.8,7.08,6.92,6.66,5.56,6.6,6.5,6.32,6.21,6.44,5.94,6.59,7.31,7.13,6.92,6.76,6.58,7.13,6.62,6.91,7.39,6.71,6.82,6.28,7.65,6.45,6.65,6.73,5.86,6.46,5.48,6.19,6.38,7.11,7.38,6.83,5.78,7.32,6.38,6.8,7.33,7.56,7.93,5.81,4.92,7.67,6.95,6.75,7.24,7.34,7.77,8.5,6.8,6.83,6.95,7.52,6.8,6.89,6.42,6.07,6.52,7.18,6.97,7.24,6.48,7.84,6.77,6.41,7.83,6.84,7.53,7.08,6.43,7.36,7.75,6.83,6.37,7.53,6.6,7.39,5.72,6.71,6.13,6.85,6.33,7.12,7.72,6.9,7.19,6.28,7.0,6.9,7.19,6.05,6.49,6.87,7.13,7.58,6.79,6.37,6.11,7.06,7.48,7.11,6.35,6.75,7.33,7.48,7.37,6.62,6.55,6.4,7.46,6.84,6.46,6.7,6.47,7.28,6.61,7.11,7.07,6.06,6.81,7.17,6.61,6.03,6.18,8.13,7.08,7.04,6.47,7.66,7.23,6.54,7.55,6.12,6.85,7.52,7.13,7.9,6.57,7.05,7.1,6.57,7.85,6.58,7.58,6.38,6.6,6.68,7.89,7.09,6.55,6.95,6.13,8.48,7.85,7.59,7.02,6.24,6.89,7.16,6.55,6.89,6.64,6.79,7.76,7.33,6.55,7.32,7.2,6.14,6.66,8.05,6.51,7.09,7.08,6.7,6.81,7.07,7.85,7.4,7.35,7.35,7.6,7.63,6.31,7.12,8.15,6.56,7.26,6.37,6.63,7.69,6.69,6.39,7.25,7.46,6.42,6.36,7.49,7.89,7.59,7.65,6.75,7.38,6.69,7.15,7.6,6.19,6.57,7.6,6.93,7.03,7.36,7.39,7.6,7.57,6.68,5.97,5.72,7.38,7.05,7.23,6.16,7.64,7.17,7.24,6.94,7.51,7.45,7.75,6.87,6.73,6.1,6.73,6.75,6.65,6.7,7.35,6.78,6.34,6.5,8.02,6.05,7.15,6.81,6.59,8.02,7.01,7.32,6.95,6.64,7.12,6.75,6.94,7.23,7.27,6.64,6.82,6.74,6.24,7.04,6.91,6.55,7.11,6.86,7.91,6.97,7.56,6.97,6.35,7.8,7.06,7.41,7.06,6.49,7.12,7.17,6.87,6.98,6.86,7.35,7.95,6.34,7.93,7.0,6.63,6.79,6.14,6.74,7.26,7.07,6.77,7.23,6.86,6.52,7.04,6.34,6.21,7.58,6.79,7.62,7.49,6.82,6.72,6.26,7.02,7.31,6.43,6.69,7.37,6.87,7.91,6.94,7.41,6.84,6.55,6.55,7.13,8.02,6.79,7.16,6.47,6.55,7.17,7.33,6.55,6.68,7.33,7.31,6.63,8.06,6.93,6.76,7.08,7.67,6.98,6.39,5.62,7.17,7.65,6.23,6.19,6.07,7.5,7.02,6.54,6.46,7.48,7.65,7.92,7.23,6.24,7.0,6.02,8.14,5.86,6.89,6.5,6.31,6.1,7.19,6.49,6.23,6.39,7.16,7.68,6.39,7.14,8.04,5.99,7.43,7.78,5.27,7.19,7.84,5.52,6.93,6.27,6.1,7.33,6.67,7.48,6.3,7.05,6.46,6.44,6.87,6.46,6.81,6.91,7.29,6.22,6.67,7.09,6.65,6.84,6.44,6.89,7.45,7.33,6.31,7.62,5.98,6.99,7.2,7.2,7.89,8.39,6.29,6.54,7.74,5.83,7.89,7.52,5.72,7.51,6.52,7.51,6.32,6.04,8.04,6.32,6.77,7.29,8.04,7.33,5.51,6.67,6.56,6.95,7.9,6.6,5.73,6.33,6.32,6.98,6.83,6.4,7.72,7.25,7.98,7.11,7.13,7.22,7.19,7.62,7.39,7.73,7.42,5.96,7.07,6.5,7.82,5.73,7.13,7.14,7.62,6.08,7.1,7.03,7.56,7.36,7.08,7.56,7.03,6.06,6.57,7.82,7.45,7.48,6.78,6.97,6.88,6.88,5.95,7.09,6.59,7.97,6.91,7.68,6.52,6.85,6.91,7.02,7.37,6.63,6.89,6.94,7.19,6.89,6.01,7.15,8.12,7.32,6.42,6.27,6.98,6.16,7.18,7.03,7.36,7.21,6.71,7.95,6.49,6.38,7.94,6.65,7.52,7.71,6.91,8.0,7.2,6.86,6.51,7.43,6.76,6.81,7.65,7.09,6.74,8.09,7.37,6.24,7.35,6.84,6.86,7.28,6.69,7.02,6.1,6.42,8.43,6.96,7.18,6.78,7.0,6.18,8.06,6.87,6.81,6.89,7.1,7.09,6.77,5.64,6.23,6.17,7.04,6.26,6.73,6.48,8.87,9.12,4.89,8.62,4.9],\"y\":[26.0,38.0,40.0,8.0,17.0,23.0,11.0,39.0,38.0,94.0,16.0,7.0,16.0,26.0,43.0,21.0,19.0,22.0,27.0,29.0,47.0,33.0,54.0,11.0,11.0,58.0,8.0,46.0,19.0,15.0,16.0,44.0,11.0,27.0,9.0,12.0,16.0,9.0,20.0,17.0,86.0,38.0,71.0,63.0,55.0,10.0,15.0,46.0,42.0,28.0,18.0,28.0,27.0,33.0,36.0,15.0,15.0,24.0,43.0,32.0,31.0,86.0,22.0,26.0,52.0,28.0,31.0,18.0,30.0,44.0,17.0,20.0,19.0,12.0,3.0,56.0,12.0,28.0,12.0,19.0,46.0,44.0,12.0,20.0,35.0,28.0,22.0,19.0,39.0,17.0,15.0,6.0,63.0,30.0,21.0,35.0,28.0,52.0,76.0,23.0,46.0,26.0,22.0,18.0,47.0,12.0,22.0,9.0,10.0,21.0,31.0,33.0,15.0,10.0,77.0,37.0,21.0,0.0,54.0,39.0,46.0,27.0,51.0,52.0,30.0,55.0,37.0,23.0,25.0,39.0,53.0,19.0,18.0,64.0,93.0,47.0,15.0,53.0,8.0,5.0,22.0,18.0,41.0,33.0,17.0,28.0,22.0,11.0,49.0,58.0,22.0,16.0,56.0,10.0,54.0,12.0,34.0,81.0,50.0,22.0,10.0,52.0,90.0,42.0,34.0,7.0,59.0,48.0,37.0,16.0,37.0,38.0,43.0,48.0,21.0,26.0,30.0,40.0,39.0,45.0,29.0,42.0,76.0,18.0,33.0,31.0,63.0,10.0,55.0,9.0,23.0,8.0,38.0,14.0,33.0,44.0,34.0,27.0,44.0,25.0,22.0,15.0,48.0,52.0,5.0,47.0,25.0,16.0,12.0,35.0,19.0,14.0,57.0,19.0,60.0,22.0,36.0,16.0,52.0,3.0,16.0,24.0,78.0,11.0,19.0,13.0,21.0,19.0,15.0,13.0,14.0,35.0,34.0,41.0,36.0,52.0,36.0,52.0,78.0,16.0,38.0,18.0,44.0,55.0,44.0,62.0,26.0,49.0,44.0,52.0,13.0,45.0,54.0,76.0,64.0,10.0,48.0,76.0,6.0,10.0,57.0,11.0,10.0,50.0,28.0,57.0,50.0,65.0,21.0,16.0,16.0,21.0,56.0,9.0,4.0,39.0,46.0,15.0,17.0,40.0,55.0,22.0,44.0,87.0,62.0,57.0,58.0,24.0,21.0,9.0,87.0,14.0,41.0,11.0,17.0,64.0,19.0,32.0,48.0,15.0,52.0,5.0,34.0,56.0,33.0,32.0,19.0,28.0,47.0,31.0,50.0,87.0,55.0,18.0,14.0,37.0,38.0,19.0,60.0,13.0,51.0,47.0,38.0,38.0,90.0,13.0,13.0,56.0,28.0,35.0,16.0,22.0,39.0,20.0,19.0,17.0,9.0,68.0,46.0,18.0,51.0,8.0,23.0,70.0,26.0,13.0,33.0,34.0,17.0,16.0,70.0,10.0,4.0,28.0,23.0,18.0,50.0,42.0,52.0,40.0,33.0,37.0,21.0,13.0,9.0,25.0,42.0,30.0,32.0,36.0,79.0,29.0,8.0,41.0,41.0,31.0,60.0,47.0,25.0,65.0,31.0,53.0,61.0,4.0,33.0,21.0,43.0,7.0,23.0,16.0,16.0,66.0,35.0,18.0,18.0,11.0,10.0,63.0,48.0,43.0,33.0,22.0,34.0,83.0,35.0,32.0,17.0,20.0,24.0,24.0,37.0,66.0,45.0,28.0,36.0,46.0,55.0,19.0,29.0,46.0,49.0,46.0,19.0,26.0,30.0,15.0,21.0,39.0,46.0,55.0,19.0,21.0,26.0,11.0,5.0,37.0,19.0,22.0,7.0,10.0,22.0,15.0,48.0,77.0,14.0,10.0,23.0,17.0,31.0,37.0,31.0,31.0,42.0,24.0,53.0,43.0,12.0,20.0,47.0,79.0,4.0,12.0,9.0,49.0,37.0,49.0,16.0,7.0,70.0,46.0,28.0,18.0,38.0,25.0,25.0,10.0,34.0,18.0,36.0,33.0,37.0,32.0,8.0,25.0,18.0,44.0,65.0,13.0,43.0,50.0,32.0,49.0,21.0,18.0,51.0,64.0,35.0,37.0,14.0,31.0,24.0,31.0,50.0,10.0,25.0,18.0,8.0,75.0,14.0,48.0,34.0,50.0,9.0,46.0,15.0,44.0,28.0,38.0,22.0,8.0,20.0,37.0,63.0,19.0,21.0,17.0,34.0,37.0,38.0,34.0,18.0,81.0,20.0,15.0,45.0,62.0,48.0,9.0,27.0,14.0,63.0,18.0,22.0,16.0,14.0,17.0,18.0,39.0,30.0,79.0,38.0,66.0,24.0,17.0,9.0,32.0,15.0,25.0,14.0,58.0,67.0,58.0,23.0,14.0,34.0,54.0,25.0,36.0,4.0,30.0,18.0,66.0,37.0,54.0,33.0,16.0,8.0,24.0,47.0,13.0,63.0,25.0,27.0,68.0,60.0,49.0,15.0,14.0,25.0,16.0,22.0,35.0,27.0,62.0,64.0,7.0,25.0,32.0,27.0,55.0,38.0,17.0,32.0,54.0,40.0,42.0,24.0,49.0,16.0,4.0,61.0,19.0,60.0,55.0,41.0,12.0,33.0,22.0,22.0,43.0,18.0,28.0,19.0,14.0,80.0,30.0,19.0,30.0,9.0,11.0,96.0,16.0,13.0,39.0,39.0,10.0,43.0,74.0,74.0,43.0,61.0,22.0,39.0,28.0,29.0,36.0,45.0,4.0,24.0,65.0,27.0,39.0,43.0,48.0,76.0,34.0,72.0,23.0,9.0,37.0,26.0,47.0,15.0,31.0,34.0,10.0,27.0,54.0,47.0,8.0,17.0,31.0,13.0,20.0,31.0,20.0,21.0,24.0,34.0,35.0,15.0,10.0,17.0,69.0,67.0,87.0,62.0,23.0,36.0,67.0,26.0,14.0,43.0,42.0,51.0,11.0,20.0,49.0,16.0,20.0,16.0,2.0,39.0,41.0,45.0,35.0,13.0,11.0,50.0,42.0,6.0,30.0,8.0,24.0,19.0,17.0,19.0,21.0,36.0,26.0,43.0,11.0,29.0,10.0,21.0,10.0,25.0,30.0,23.0,58.0,90.0,5.0,55.0,10.0,50.0,39.0,24.0,12.0,17.0,39.0,74.0,66.0,29.0,15.0,58.0,13.0,25.0,18.0,9.0,61.0,8.0,20.0,35.0,42.0,17.0,26.0,30.0,15.0,29.0,22.0,48.0,6.0,14.0,59.0,70.0,28.0,34.0,31.0,63.0,18.0,67.0,86.0,26.0,79.0,69.0,24.0,30.0,23.0,34.0,32.0,31.0,49.0,41.0,24.0,19.0,29.0,10.0,9.0,19.0,74.0,47.0,12.0,32.0,9.0,17.0,9.0,60.0,20.0,56.0,53.0,28.0,14.0,16.0,20.0,81.0,13.0,15.0,19.0,31.0,22.0,21.0,14.0,23.0,52.0,17.0,43.0,23.0,26.0,62.0,10.0,16.0,9.0,32.0,18.0,27.0,23.0,32.0,21.0,63.0,37.0,28.0,55.0,59.0,23.0,52.0,65.0,33.0,24.0,32.0,24.0,22.0,27.0,14.0,60.0,18.0,36.0,97.0,54.0,27.0,8.0,37.0,17.0,43.0,22.0,68.0,9.0,6.0,64.0,26.0,22.0,21.0,28.0,37.0,2.0,5.0,16.0,35.0,26.0,36.0,58.0,15.0,60.0,54.0,42.0,24.0,16.0,20.0,9.0,34.0,31.0,13.0,42.0,35.0,6.0,4.0,16.0,17.0,17.0,23.0,38.0,30.0,26.0,18.0,32.0,16.0,35.0,38.0,35.0,18.0,8.0,19.0,50.0,42.0,28.0,32.0,29.0,34.0,44.0,17.0,11.0,29.0,36.0,38.0,7.0,25.0,34.0,11.0,100.0,9.0,21.0,52.0,38.0,23.0,10.0,23.0,56.0,14.0,52.0,32.0,25.0,7.0,33.0,71.0,9.0,9.0,37.0,20.0,34.0,24.0,41.0,38.0,8.0,6.0,2.0,21.0,26.0,12.0,70.0,15.0,11.0,33.0,48.0,25.0,44.0,39.0,26.0,21.0,27.0,11.0,27.0,10.0,9.0,46.0,8.0,54.0,52.0,72.0,59.0,26.0,41.0,42.0,18.0,18.0,37.0,38.0,25.0,48.0,49.0,12.0,13.0,27.0,37.0,22.0,11.0,16.0,26.0,19.0,62.0,37.0,31.0,33.0,57.0,12.0,21.0,63.0,44.0,65.0,34.0,46.0,10.0],\"z\":[1,1,1,1,0,1,0,1,0,1,1,1,1,0,0,0,0,1,0,0,0,1,1,0,0,1,1,0,0,1,0,0,1,0,0,0,1,1,1,0,1,0,1,0,0,1,0,0,0,1,1,1,1,1,1,0,1,0,0,1,1,0,0,0,1,1,1,1,0,0,1,1,0,1,1,1,0,1,0,1,1,1,0,1,1,0,1,1,0,0,1,1,0,0,1,1,1,1,0,0,0,1,1,1,1,1,0,0,0,1,0,0,0,0,1,0,0,1,0,0,1,0,0,0,0,1,0,1,0,1,0,1,0,1,0,0,0,0,1,1,1,0,1,1,0,0,1,0,1,0,0,1,0,1,1,0,0,1,0,0,1,1,0,1,1,0,0,1,1,1,0,1,1,0,1,1,1,1,0,1,0,0,0,1,0,0,1,1,1,0,0,0,0,0,0,0,1,0,1,1,0,0,1,0,1,1,0,0,1,0,1,0,0,1,1,0,1,0,0,0,1,1,0,1,0,1,1,0,0,0,1,0,0,0,0,1,1,1,0,1,0,0,0,0,0,0,0,0,0,0,1,0,1,0,0,0,1,0,1,0,1,1,1,1,1,0,1,0,0,0,1,1,1,0,1,0,0,1,1,1,0,1,1,0,1,1,1,1,0,1,0,1,0,1,0,0,0,1,0,1,1,1,0,0,1,1,0,1,1,1,0,1,1,1,1,0,1,0,0,0,1,0,1,0,0,0,0,0,1,0,1,1,0,1,1,1,1,0,1,1,0,1,0,1,1,1,0,1,1,0,0,0,1,1,1,1,1,1,0,0,0,1,1,0,1,0,0,0,0,1,1,0,0,0,0,0,0,1,1,0,1,0,0,1,0,0,0,1,0,1,1,1,0,0,1,0,1,0,0,1,1,0,1,0,1,1,1,1,1,0,1,0,1,1,1,1,1,0,0,0,0,0,0,0,0,0,0,1,0,0,1,0,1,1,0,0,0,0,0,1,0,1,1,0,1,0,1,1,0,0,1,0,1,1,0,0,1,0,0,1,1,0,1,1,1,0,0,0,0,1,0,0,1,0,1,0,0,0,1,0,0,0,0,0,0,1,1,0,0,0,0,1,1,0,0,1,1,1,0,0,1,0,1,1,0,1,1,1,1,0,1,0,1,0,0,0,0,1,0,1,1,1,1,0,0,0,0,0,1,0,1,1,0,0,1,0,1,1,0,0,0,1,0,0,1,1,1,0,1,1,1,1,0,0,1,0,1,0,0,1,0,0,0,1,1,1,0,1,0,0,0,1,1,1,0,0,1,1,0,0,1,0,1,0,1,1,0,1,0,0,1,0,1,0,0,1,1,0,1,0,1,1,0,1,1,0,0,1,1,0,1,1,1,1,0,0,1,0,0,0,1,1,1,1,1,1,1,1,0,1,1,0,0,1,0,0,1,0,1,1,1,0,1,0,1,0,1,1,0,1,0,1,1,0,0,0,1,0,0,0,1,0,1,1,0,0,1,0,0,1,1,0,0,0,1,0,1,0,1,0,0,1,1,0,0,1,1,0,0,0,0,0,0,1,0,1,0,1,0,0,1,1,0,0,1,1,1,1,0,1,1,1,1,0,1,1,1,0,1,0,0,0,0,1,0,0,0,0,0,1,1,0,1,0,1,1,1,1,1,0,1,0,0,1,0,1,1,0,0,1,1,1,0,0,0,0,1,0,0,1,1,0,1,1,1,0,0,0,1,1,1,1,0,0,0,0,0,0,0,0,0,1,0,1,0,1,1,0,0,0,0,1,0,0,1,1,0,1,0,1,0,0,0,1,0,0,0,1,0,1,1,0,0,1,1,0,1,0,0,0,0,0,1,0,1,0,0,0,1,0,0,1,0,1,1,1,1,0,0,1,1,1,1,0,1,0,0,1,1,1,1,0,1,0,1,1,1,1,0,0,0,0,1,1,0,0,0,0,0,1,1,0,0,1,0,1,0,0,0,0,0,0,1,1,1,1,1,1,1,0,0,1,1,1,0,1,0,1,1,1,1,1,1,1,0,0,1,1,1,1,1,1,1,1,0,0,1,0,0,0,1,1,1,0,1,1,0,1,0,0,1,0,0,0,0,1,0,0,0,0,0,0,0,0,1,1,0,0,0,0,1,1,1,0,1,1,0,1,0,1,1,0,1,0,1,1,1,0,0,0,1,1,0,1,0,1,0,0,0,1,0,0,0,1,1,0,1,0,1,0,1,0,0,1,0,1,1,0,1,1],\"type\":\"scatter3d\"}],                        {\"template\":{\"data\":{\"histogram2dcontour\":[{\"type\":\"histogram2dcontour\",\"colorbar\":{\"outlinewidth\":0,\"ticks\":\"\"},\"colorscale\":[[0.0,\"#0d0887\"],[0.1111111111111111,\"#46039f\"],[0.2222222222222222,\"#7201a8\"],[0.3333333333333333,\"#9c179e\"],[0.4444444444444444,\"#bd3786\"],[0.5555555555555556,\"#d8576b\"],[0.6666666666666666,\"#ed7953\"],[0.7777777777777778,\"#fb9f3a\"],[0.8888888888888888,\"#fdca26\"],[1.0,\"#f0f921\"]]}],\"choropleth\":[{\"type\":\"choropleth\",\"colorbar\":{\"outlinewidth\":0,\"ticks\":\"\"}}],\"histogram2d\":[{\"type\":\"histogram2d\",\"colorbar\":{\"outlinewidth\":0,\"ticks\":\"\"},\"colorscale\":[[0.0,\"#0d0887\"],[0.1111111111111111,\"#46039f\"],[0.2222222222222222,\"#7201a8\"],[0.3333333333333333,\"#9c179e\"],[0.4444444444444444,\"#bd3786\"],[0.5555555555555556,\"#d8576b\"],[0.6666666666666666,\"#ed7953\"],[0.7777777777777778,\"#fb9f3a\"],[0.8888888888888888,\"#fdca26\"],[1.0,\"#f0f921\"]]}],\"heatmap\":[{\"type\":\"heatmap\",\"colorbar\":{\"outlinewidth\":0,\"ticks\":\"\"},\"colorscale\":[[0.0,\"#0d0887\"],[0.1111111111111111,\"#46039f\"],[0.2222222222222222,\"#7201a8\"],[0.3333333333333333,\"#9c179e\"],[0.4444444444444444,\"#bd3786\"],[0.5555555555555556,\"#d8576b\"],[0.6666666666666666,\"#ed7953\"],[0.7777777777777778,\"#fb9f3a\"],[0.8888888888888888,\"#fdca26\"],[1.0,\"#f0f921\"]]}],\"heatmapgl\":[{\"type\":\"heatmapgl\",\"colorbar\":{\"outlinewidth\":0,\"ticks\":\"\"},\"colorscale\":[[0.0,\"#0d0887\"],[0.1111111111111111,\"#46039f\"],[0.2222222222222222,\"#7201a8\"],[0.3333333333333333,\"#9c179e\"],[0.4444444444444444,\"#bd3786\"],[0.5555555555555556,\"#d8576b\"],[0.6666666666666666,\"#ed7953\"],[0.7777777777777778,\"#fb9f3a\"],[0.8888888888888888,\"#fdca26\"],[1.0,\"#f0f921\"]]}],\"contourcarpet\":[{\"type\":\"contourcarpet\",\"colorbar\":{\"outlinewidth\":0,\"ticks\":\"\"}}],\"contour\":[{\"type\":\"contour\",\"colorbar\":{\"outlinewidth\":0,\"ticks\":\"\"},\"colorscale\":[[0.0,\"#0d0887\"],[0.1111111111111111,\"#46039f\"],[0.2222222222222222,\"#7201a8\"],[0.3333333333333333,\"#9c179e\"],[0.4444444444444444,\"#bd3786\"],[0.5555555555555556,\"#d8576b\"],[0.6666666666666666,\"#ed7953\"],[0.7777777777777778,\"#fb9f3a\"],[0.8888888888888888,\"#fdca26\"],[1.0,\"#f0f921\"]]}],\"surface\":[{\"type\":\"surface\",\"colorbar\":{\"outlinewidth\":0,\"ticks\":\"\"},\"colorscale\":[[0.0,\"#0d0887\"],[0.1111111111111111,\"#46039f\"],[0.2222222222222222,\"#7201a8\"],[0.3333333333333333,\"#9c179e\"],[0.4444444444444444,\"#bd3786\"],[0.5555555555555556,\"#d8576b\"],[0.6666666666666666,\"#ed7953\"],[0.7777777777777778,\"#fb9f3a\"],[0.8888888888888888,\"#fdca26\"],[1.0,\"#f0f921\"]]}],\"mesh3d\":[{\"type\":\"mesh3d\",\"colorbar\":{\"outlinewidth\":0,\"ticks\":\"\"}}],\"scatter\":[{\"fillpattern\":{\"fillmode\":\"overlay\",\"size\":10,\"solidity\":0.2},\"type\":\"scatter\"}],\"parcoords\":[{\"type\":\"parcoords\",\"line\":{\"colorbar\":{\"outlinewidth\":0,\"ticks\":\"\"}}}],\"scatterpolargl\":[{\"type\":\"scatterpolargl\",\"marker\":{\"colorbar\":{\"outlinewidth\":0,\"ticks\":\"\"}}}],\"bar\":[{\"error_x\":{\"color\":\"#2a3f5f\"},\"error_y\":{\"color\":\"#2a3f5f\"},\"marker\":{\"line\":{\"color\":\"#E5ECF6\",\"width\":0.5},\"pattern\":{\"fillmode\":\"overlay\",\"size\":10,\"solidity\":0.2}},\"type\":\"bar\"}],\"scattergeo\":[{\"type\":\"scattergeo\",\"marker\":{\"colorbar\":{\"outlinewidth\":0,\"ticks\":\"\"}}}],\"scatterpolar\":[{\"type\":\"scatterpolar\",\"marker\":{\"colorbar\":{\"outlinewidth\":0,\"ticks\":\"\"}}}],\"histogram\":[{\"marker\":{\"pattern\":{\"fillmode\":\"overlay\",\"size\":10,\"solidity\":0.2}},\"type\":\"histogram\"}],\"scattergl\":[{\"type\":\"scattergl\",\"marker\":{\"colorbar\":{\"outlinewidth\":0,\"ticks\":\"\"}}}],\"scatter3d\":[{\"type\":\"scatter3d\",\"line\":{\"colorbar\":{\"outlinewidth\":0,\"ticks\":\"\"}},\"marker\":{\"colorbar\":{\"outlinewidth\":0,\"ticks\":\"\"}}}],\"scattermapbox\":[{\"type\":\"scattermapbox\",\"marker\":{\"colorbar\":{\"outlinewidth\":0,\"ticks\":\"\"}}}],\"scatterternary\":[{\"type\":\"scatterternary\",\"marker\":{\"colorbar\":{\"outlinewidth\":0,\"ticks\":\"\"}}}],\"scattercarpet\":[{\"type\":\"scattercarpet\",\"marker\":{\"colorbar\":{\"outlinewidth\":0,\"ticks\":\"\"}}}],\"carpet\":[{\"aaxis\":{\"endlinecolor\":\"#2a3f5f\",\"gridcolor\":\"white\",\"linecolor\":\"white\",\"minorgridcolor\":\"white\",\"startlinecolor\":\"#2a3f5f\"},\"baxis\":{\"endlinecolor\":\"#2a3f5f\",\"gridcolor\":\"white\",\"linecolor\":\"white\",\"minorgridcolor\":\"white\",\"startlinecolor\":\"#2a3f5f\"},\"type\":\"carpet\"}],\"table\":[{\"cells\":{\"fill\":{\"color\":\"#EBF0F8\"},\"line\":{\"color\":\"white\"}},\"header\":{\"fill\":{\"color\":\"#C8D4E3\"},\"line\":{\"color\":\"white\"}},\"type\":\"table\"}],\"barpolar\":[{\"marker\":{\"line\":{\"color\":\"#E5ECF6\",\"width\":0.5},\"pattern\":{\"fillmode\":\"overlay\",\"size\":10,\"solidity\":0.2}},\"type\":\"barpolar\"}],\"pie\":[{\"automargin\":true,\"type\":\"pie\"}]},\"layout\":{\"autotypenumbers\":\"strict\",\"colorway\":[\"#636efa\",\"#EF553B\",\"#00cc96\",\"#ab63fa\",\"#FFA15A\",\"#19d3f3\",\"#FF6692\",\"#B6E880\",\"#FF97FF\",\"#FECB52\"],\"font\":{\"color\":\"#2a3f5f\"},\"hovermode\":\"closest\",\"hoverlabel\":{\"align\":\"left\"},\"paper_bgcolor\":\"white\",\"plot_bgcolor\":\"#E5ECF6\",\"polar\":{\"bgcolor\":\"#E5ECF6\",\"angularaxis\":{\"gridcolor\":\"white\",\"linecolor\":\"white\",\"ticks\":\"\"},\"radialaxis\":{\"gridcolor\":\"white\",\"linecolor\":\"white\",\"ticks\":\"\"}},\"ternary\":{\"bgcolor\":\"#E5ECF6\",\"aaxis\":{\"gridcolor\":\"white\",\"linecolor\":\"white\",\"ticks\":\"\"},\"baxis\":{\"gridcolor\":\"white\",\"linecolor\":\"white\",\"ticks\":\"\"},\"caxis\":{\"gridcolor\":\"white\",\"linecolor\":\"white\",\"ticks\":\"\"}},\"coloraxis\":{\"colorbar\":{\"outlinewidth\":0,\"ticks\":\"\"}},\"colorscale\":{\"sequential\":[[0.0,\"#0d0887\"],[0.1111111111111111,\"#46039f\"],[0.2222222222222222,\"#7201a8\"],[0.3333333333333333,\"#9c179e\"],[0.4444444444444444,\"#bd3786\"],[0.5555555555555556,\"#d8576b\"],[0.6666666666666666,\"#ed7953\"],[0.7777777777777778,\"#fb9f3a\"],[0.8888888888888888,\"#fdca26\"],[1.0,\"#f0f921\"]],\"sequentialminus\":[[0.0,\"#0d0887\"],[0.1111111111111111,\"#46039f\"],[0.2222222222222222,\"#7201a8\"],[0.3333333333333333,\"#9c179e\"],[0.4444444444444444,\"#bd3786\"],[0.5555555555555556,\"#d8576b\"],[0.6666666666666666,\"#ed7953\"],[0.7777777777777778,\"#fb9f3a\"],[0.8888888888888888,\"#fdca26\"],[1.0,\"#f0f921\"]],\"diverging\":[[0,\"#8e0152\"],[0.1,\"#c51b7d\"],[0.2,\"#de77ae\"],[0.3,\"#f1b6da\"],[0.4,\"#fde0ef\"],[0.5,\"#f7f7f7\"],[0.6,\"#e6f5d0\"],[0.7,\"#b8e186\"],[0.8,\"#7fbc41\"],[0.9,\"#4d9221\"],[1,\"#276419\"]]},\"xaxis\":{\"gridcolor\":\"white\",\"linecolor\":\"white\",\"ticks\":\"\",\"title\":{\"standoff\":15},\"zerolinecolor\":\"white\",\"automargin\":true,\"zerolinewidth\":2},\"yaxis\":{\"gridcolor\":\"white\",\"linecolor\":\"white\",\"ticks\":\"\",\"title\":{\"standoff\":15},\"zerolinecolor\":\"white\",\"automargin\":true,\"zerolinewidth\":2},\"scene\":{\"xaxis\":{\"backgroundcolor\":\"#E5ECF6\",\"gridcolor\":\"white\",\"linecolor\":\"white\",\"showbackground\":true,\"ticks\":\"\",\"zerolinecolor\":\"white\",\"gridwidth\":2},\"yaxis\":{\"backgroundcolor\":\"#E5ECF6\",\"gridcolor\":\"white\",\"linecolor\":\"white\",\"showbackground\":true,\"ticks\":\"\",\"zerolinecolor\":\"white\",\"gridwidth\":2},\"zaxis\":{\"backgroundcolor\":\"#E5ECF6\",\"gridcolor\":\"white\",\"linecolor\":\"white\",\"showbackground\":true,\"ticks\":\"\",\"zerolinecolor\":\"white\",\"gridwidth\":2}},\"shapedefaults\":{\"line\":{\"color\":\"#2a3f5f\"}},\"annotationdefaults\":{\"arrowcolor\":\"#2a3f5f\",\"arrowhead\":0,\"arrowwidth\":1},\"geo\":{\"bgcolor\":\"white\",\"landcolor\":\"#E5ECF6\",\"subunitcolor\":\"white\",\"showland\":true,\"showlakes\":true,\"lakecolor\":\"white\"},\"title\":{\"x\":0.05},\"mapbox\":{\"style\":\"light\"}}},\"scene\":{\"domain\":{\"x\":[0.0,1.0],\"y\":[0.0,1.0]},\"xaxis\":{\"title\":{\"text\":\"cgpa\"}},\"yaxis\":{\"title\":{\"text\":\"placement_exam_marks\"}},\"zaxis\":{\"title\":{\"text\":\"placed\"}}},\"legend\":{\"tracegroupgap\":0},\"margin\":{\"t\":60}},                        {\"responsive\": true}                    ).then(function(){\n",
              "                            \n",
              "var gd = document.getElementById('8462e2d1-f6a1-40b7-a5a9-c991863232eb');\n",
              "var x = new MutationObserver(function (mutations, observer) {{\n",
              "        var display = window.getComputedStyle(gd).display;\n",
              "        if (!display || display === 'none') {{\n",
              "            console.log([gd, 'removed!']);\n",
              "            Plotly.purge(gd);\n",
              "            observer.disconnect();\n",
              "        }}\n",
              "}});\n",
              "\n",
              "// Listen for the removal of the full notebook cells\n",
              "var notebookContainer = gd.closest('#notebook-container');\n",
              "if (notebookContainer) {{\n",
              "    x.observe(notebookContainer, {childList: true});\n",
              "}}\n",
              "\n",
              "// Listen for the clearing of the current output cell\n",
              "var outputEl = gd.closest('.output');\n",
              "if (outputEl) {{\n",
              "    x.observe(outputEl, {childList: true});\n",
              "}}\n",
              "\n",
              "                        })                };                            </script>        </div>\n",
              "</body>\n",
              "</html>"
            ]
          },
          "metadata": {}
        }
      ]
    },
    {
      "cell_type": "code",
      "source": [
        " from sklearn.model_selection import train_test_split\n",
        " X_train,X_test,Y_train,y_test=train_test_split(X,Y,test_size=0.2,random_state=3)"
      ],
      "metadata": {
        "id": "21vHEakBqpaW"
      },
      "execution_count": 96,
      "outputs": []
    },
    {
      "cell_type": "code",
      "source": [
        "X_train.shape"
      ],
      "metadata": {
        "colab": {
          "base_uri": "https://localhost:8080/"
        },
        "id": "JyXLjyD1qpdd",
        "outputId": "31068744-ef78-44f2-f616-323895222d8c"
      },
      "execution_count": 97,
      "outputs": [
        {
          "output_type": "execute_result",
          "data": {
            "text/plain": [
              "(850, 1)"
            ]
          },
          "metadata": {},
          "execution_count": 97
        }
      ]
    },
    {
      "cell_type": "code",
      "source": [
        "model2=LinearRegression()"
      ],
      "metadata": {
        "id": "x9URAHSVqpgy"
      },
      "execution_count": 99,
      "outputs": []
    },
    {
      "cell_type": "code",
      "source": [
        "model2.fit(X_train,Y_train)"
      ],
      "metadata": {
        "colab": {
          "base_uri": "https://localhost:8080/",
          "height": 74
        },
        "id": "f2bqYt1FzKSU",
        "outputId": "b5adce65-eb4a-40af-8137-c6776ca91314"
      },
      "execution_count": 103,
      "outputs": [
        {
          "output_type": "execute_result",
          "data": {
            "text/plain": [
              "LinearRegression()"
            ],
            "text/html": [
              "<style>#sk-container-id-2 {color: black;background-color: white;}#sk-container-id-2 pre{padding: 0;}#sk-container-id-2 div.sk-toggleable {background-color: white;}#sk-container-id-2 label.sk-toggleable__label {cursor: pointer;display: block;width: 100%;margin-bottom: 0;padding: 0.3em;box-sizing: border-box;text-align: center;}#sk-container-id-2 label.sk-toggleable__label-arrow:before {content: \"▸\";float: left;margin-right: 0.25em;color: #696969;}#sk-container-id-2 label.sk-toggleable__label-arrow:hover:before {color: black;}#sk-container-id-2 div.sk-estimator:hover label.sk-toggleable__label-arrow:before {color: black;}#sk-container-id-2 div.sk-toggleable__content {max-height: 0;max-width: 0;overflow: hidden;text-align: left;background-color: #f0f8ff;}#sk-container-id-2 div.sk-toggleable__content pre {margin: 0.2em;color: black;border-radius: 0.25em;background-color: #f0f8ff;}#sk-container-id-2 input.sk-toggleable__control:checked~div.sk-toggleable__content {max-height: 200px;max-width: 100%;overflow: auto;}#sk-container-id-2 input.sk-toggleable__control:checked~label.sk-toggleable__label-arrow:before {content: \"▾\";}#sk-container-id-2 div.sk-estimator input.sk-toggleable__control:checked~label.sk-toggleable__label {background-color: #d4ebff;}#sk-container-id-2 div.sk-label input.sk-toggleable__control:checked~label.sk-toggleable__label {background-color: #d4ebff;}#sk-container-id-2 input.sk-hidden--visually {border: 0;clip: rect(1px 1px 1px 1px);clip: rect(1px, 1px, 1px, 1px);height: 1px;margin: -1px;overflow: hidden;padding: 0;position: absolute;width: 1px;}#sk-container-id-2 div.sk-estimator {font-family: monospace;background-color: #f0f8ff;border: 1px dotted black;border-radius: 0.25em;box-sizing: border-box;margin-bottom: 0.5em;}#sk-container-id-2 div.sk-estimator:hover {background-color: #d4ebff;}#sk-container-id-2 div.sk-parallel-item::after {content: \"\";width: 100%;border-bottom: 1px solid gray;flex-grow: 1;}#sk-container-id-2 div.sk-label:hover label.sk-toggleable__label {background-color: #d4ebff;}#sk-container-id-2 div.sk-serial::before {content: \"\";position: absolute;border-left: 1px solid gray;box-sizing: border-box;top: 0;bottom: 0;left: 50%;z-index: 0;}#sk-container-id-2 div.sk-serial {display: flex;flex-direction: column;align-items: center;background-color: white;padding-right: 0.2em;padding-left: 0.2em;position: relative;}#sk-container-id-2 div.sk-item {position: relative;z-index: 1;}#sk-container-id-2 div.sk-parallel {display: flex;align-items: stretch;justify-content: center;background-color: white;position: relative;}#sk-container-id-2 div.sk-item::before, #sk-container-id-2 div.sk-parallel-item::before {content: \"\";position: absolute;border-left: 1px solid gray;box-sizing: border-box;top: 0;bottom: 0;left: 50%;z-index: -1;}#sk-container-id-2 div.sk-parallel-item {display: flex;flex-direction: column;z-index: 1;position: relative;background-color: white;}#sk-container-id-2 div.sk-parallel-item:first-child::after {align-self: flex-end;width: 50%;}#sk-container-id-2 div.sk-parallel-item:last-child::after {align-self: flex-start;width: 50%;}#sk-container-id-2 div.sk-parallel-item:only-child::after {width: 0;}#sk-container-id-2 div.sk-dashed-wrapped {border: 1px dashed gray;margin: 0 0.4em 0.5em 0.4em;box-sizing: border-box;padding-bottom: 0.4em;background-color: white;}#sk-container-id-2 div.sk-label label {font-family: monospace;font-weight: bold;display: inline-block;line-height: 1.2em;}#sk-container-id-2 div.sk-label-container {text-align: center;}#sk-container-id-2 div.sk-container {/* jupyter's `normalize.less` sets `[hidden] { display: none; }` but bootstrap.min.css set `[hidden] { display: none !important; }` so we also need the `!important` here to be able to override the default hidden behavior on the sphinx rendered scikit-learn.org. See: https://github.com/scikit-learn/scikit-learn/issues/21755 */display: inline-block !important;position: relative;}#sk-container-id-2 div.sk-text-repr-fallback {display: none;}</style><div id=\"sk-container-id-2\" class=\"sk-top-container\"><div class=\"sk-text-repr-fallback\"><pre>LinearRegression()</pre><b>In a Jupyter environment, please rerun this cell to show the HTML representation or trust the notebook. <br />On GitHub, the HTML representation is unable to render, please try loading this page with nbviewer.org.</b></div><div class=\"sk-container\" hidden><div class=\"sk-item\"><div class=\"sk-estimator sk-toggleable\"><input class=\"sk-toggleable__control sk-hidden--visually\" id=\"sk-estimator-id-2\" type=\"checkbox\" checked><label for=\"sk-estimator-id-2\" class=\"sk-toggleable__label sk-toggleable__label-arrow\">LinearRegression</label><div class=\"sk-toggleable__content\"><pre>LinearRegression()</pre></div></div></div></div></div>"
            ]
          },
          "metadata": {},
          "execution_count": 103
        }
      ]
    },
    {
      "cell_type": "code",
      "source": [
        "model2.score(X_train,Y_train)"
      ],
      "metadata": {
        "colab": {
          "base_uri": "https://localhost:8080/"
        },
        "id": "_coJA_t8zrWA",
        "outputId": "18e70214-9b42-4e07-f4a3-d52ec420a173"
      },
      "execution_count": 104,
      "outputs": [
        {
          "output_type": "execute_result",
          "data": {
            "text/plain": [
              "0.0007383414669731581"
            ]
          },
          "metadata": {},
          "execution_count": 104
        }
      ]
    },
    {
      "cell_type": "code",
      "source": [
        "model2.predict(X_test)"
      ],
      "metadata": {
        "colab": {
          "base_uri": "https://localhost:8080/"
        },
        "id": "8vn29mcSzwlQ",
        "outputId": "791664c8-1619-46d8-f812-7a4d7f965e23"
      },
      "execution_count": 105,
      "outputs": [
        {
          "output_type": "execute_result",
          "data": {
            "text/plain": [
              "array([0.46194891, 0.47977155, 0.47286528, 0.46751848, 0.46907796,\n",
              "       0.48266773, 0.50450047, 0.4777665 , 0.47977155, 0.49670306,\n",
              "       0.51363457, 0.52054085, 0.47687537, 0.47041466, 0.47420197,\n",
              "       0.50427768, 0.48199938, 0.51229787, 0.51318901, 0.50227264,\n",
              "       0.49870811, 0.49737141, 0.465959  , 0.50650551, 0.48110825,\n",
              "       0.4949208 , 0.47888042, 0.49247018, 0.49113348, 0.4791032 ,\n",
              "       0.49737141, 0.51474849, 0.50940169, 0.47754372, 0.46150334,\n",
              "       0.51920415, 0.48623226, 0.48088546, 0.49269297, 0.50605995,\n",
              "       0.49937646, 0.49247018, 0.4909107 , 0.47754372, 0.48489556,\n",
              "       0.47821207, 0.48712339, 0.48801452, 0.4831133 , 0.48266773,\n",
              "       0.49135627, 0.48667782, 0.49425245, 0.50204985, 0.46930075,\n",
              "       0.50071316, 0.4922474 , 0.48645504, 0.48556391, 0.47420197,\n",
              "       0.49024235, 0.52210033, 0.49180183, 0.48779174, 0.48801452,\n",
              "       0.48935122, 0.49893089, 0.49692584, 0.49001957, 0.50115872,\n",
              "       0.49759419, 0.48600947, 0.48333608, 0.50338655, 0.46417674,\n",
              "       0.48444999, 0.50383212, 0.49603471, 0.48155381, 0.50093594,\n",
              "       0.48378164, 0.4831133 , 0.51341179, 0.51363457, 0.48467278,\n",
              "       0.50115872, 0.52655599, 0.49180183, 0.48756896, 0.51742188,\n",
              "       0.5027182 , 0.46685013, 0.48400443, 0.48199938, 0.4909107 ,\n",
              "       0.47509311, 0.47865763, 0.48556391, 0.47308806, 0.49157905,\n",
              "       0.49180183, 0.48868287, 0.49759419, 0.49870811, 0.48355886,\n",
              "       0.50494603, 0.48690061, 0.48511834, 0.47954877, 0.46707292,\n",
              "       0.4882373 , 0.4831133 , 0.49269297, 0.49469801, 0.49469801,\n",
              "       0.4831133 , 0.50784221, 0.48556391, 0.46930075, 0.47086023,\n",
              "       0.4672957 , 0.50049037, 0.50828778, 0.46061221, 0.4935841 ,\n",
              "       0.4817766 , 0.49269297, 0.45838438, 0.51363457, 0.47932598,\n",
              "       0.4909107 , 0.51029283, 0.48912844, 0.53212556, 0.49469801,\n",
              "       0.51541684, 0.49024235, 0.50650551, 0.47442476, 0.51051561,\n",
              "       0.51007004, 0.47375641, 0.49001957, 0.50561438, 0.49202462,\n",
              "       0.48979679, 0.4935841 , 0.50561438, 0.49781698, 0.48645504])"
            ]
          },
          "metadata": {},
          "execution_count": 105
        }
      ]
    },
    {
      "cell_type": "code",
      "source": [],
      "metadata": {
        "id": "1DFSnhwa4ckj"
      },
      "execution_count": 125,
      "outputs": []
    },
    {
      "cell_type": "code",
      "source": [
        "y_pred2=model2.predict(X_test)"
      ],
      "metadata": {
        "id": "MK8uXujuzwon"
      },
      "execution_count": 109,
      "outputs": []
    },
    {
      "cell_type": "code",
      "source": [
        "r2_score(y_test,y_pred2)"
      ],
      "metadata": {
        "colab": {
          "base_uri": "https://localhost:8080/"
        },
        "id": "uY0S_eWnzwsh",
        "outputId": "3e6f89a4-2a55-4b71-8c5a-c4d27ee3e296"
      },
      "execution_count": 110,
      "outputs": [
        {
          "output_type": "execute_result",
          "data": {
            "text/plain": [
              "0.0007170188906084896"
            ]
          },
          "metadata": {},
          "execution_count": 110
        }
      ]
    },
    {
      "cell_type": "code",
      "source": [
        "model2.coef_"
      ],
      "metadata": {
        "colab": {
          "base_uri": "https://localhost:8080/"
        },
        "id": "bVPGTfXyzwvW",
        "outputId": "fc180680-9f9c-4121-9500-2ce9f03b9e55"
      },
      "execution_count": 111,
      "outputs": [
        {
          "output_type": "execute_result",
          "data": {
            "text/plain": [
              "array([0.0222783])"
            ]
          },
          "metadata": {},
          "execution_count": 111
        }
      ]
    },
    {
      "cell_type": "code",
      "source": [
        "model2.intercept_"
      ],
      "metadata": {
        "colab": {
          "base_uri": "https://localhost:8080/"
        },
        "id": "E7CroKb7zwyN",
        "outputId": "ffcdc7ef-d6d5-4fff-97f6-c36cc1a1ec33"
      },
      "execution_count": 112,
      "outputs": [
        {
          "output_type": "execute_result",
          "data": {
            "text/plain": [
              "0.33451700885257846"
            ]
          },
          "metadata": {},
          "execution_count": 112
        }
      ]
    },
    {
      "cell_type": "code",
      "source": [
        "y=m1*1+m2*2+c\n",
        "\n",
        "y=theta*1+theta2*2+c\n",
        "\n",
        "y=83.6(*1)+89.76(*2)-3.56"
      ],
      "metadata": {
        "id": "k99zauMO0xUf"
      },
      "execution_count": 113,
      "outputs": []
    },
    {
      "cell_type": "code",
      "source": [
        "y_test this i my actual value\n",
        "y_pd this is predicted value"
      ],
      "metadata": {
        "id": "lXWPqw-A2K7Y"
      },
      "execution_count": null,
      "outputs": []
    },
    {
      "cell_type": "code",
      "source": [
        "from sklearn.metrics import mean_absolute_error,mean_squared_error"
      ],
      "metadata": {
        "id": "eZ7BPPVE0xXg"
      },
      "execution_count": 115,
      "outputs": []
    },
    {
      "cell_type": "code",
      "source": [
        "mean_squared_error(y_test,y_pred2)"
      ],
      "metadata": {
        "colab": {
          "base_uri": "https://localhost:8080/"
        },
        "id": "eTVbLCFe0xaT",
        "outputId": "b1695276-a07a-4253-96af-8960b7abd9c8"
      },
      "execution_count": 116,
      "outputs": [
        {
          "output_type": "execute_result",
          "data": {
            "text/plain": [
              "0.24964309496959505"
            ]
          },
          "metadata": {},
          "execution_count": 116
        }
      ]
    },
    {
      "cell_type": "code",
      "source": [
        "mean_absolute_error(y_test,y_pred2)"
      ],
      "metadata": {
        "colab": {
          "base_uri": "https://localhost:8080/"
        },
        "id": "JZfiYeKj0xdC",
        "outputId": "25927858-940d-4e38-ab60-ac071187b130"
      },
      "execution_count": 117,
      "outputs": [
        {
          "output_type": "execute_result",
          "data": {
            "text/plain": [
              "0.4993491831347627"
            ]
          },
          "metadata": {},
          "execution_count": 117
        }
      ]
    },
    {
      "cell_type": "code",
      "source": [
        "from sklearn.datasets import load_diabetes"
      ],
      "metadata": {
        "id": "6a2vYpyy0xjk"
      },
      "execution_count": 118,
      "outputs": []
    },
    {
      "cell_type": "code",
      "source": [
        "data=load_diabetes()"
      ],
      "metadata": {
        "id": "-2BDhIy40xnE"
      },
      "execution_count": 121,
      "outputs": []
    },
    {
      "cell_type": "code",
      "source": [
        "print(data.DESCR)"
      ],
      "metadata": {
        "colab": {
          "base_uri": "https://localhost:8080/"
        },
        "id": "b4ghBJRP0xug",
        "outputId": "659edf13-1305-408c-a9e6-03aa3daea848"
      },
      "execution_count": 123,
      "outputs": [
        {
          "output_type": "stream",
          "name": "stdout",
          "text": [
            ".. _diabetes_dataset:\n",
            "\n",
            "Diabetes dataset\n",
            "----------------\n",
            "\n",
            "Ten baseline variables, age, sex, body mass index, average blood\n",
            "pressure, and six blood serum measurements were obtained for each of n =\n",
            "442 diabetes patients, as well as the response of interest, a\n",
            "quantitative measure of disease progression one year after baseline.\n",
            "\n",
            "**Data Set Characteristics:**\n",
            "\n",
            "  :Number of Instances: 442\n",
            "\n",
            "  :Number of Attributes: First 10 columns are numeric predictive values\n",
            "\n",
            "  :Target: Column 11 is a quantitative measure of disease progression one year after baseline\n",
            "\n",
            "  :Attribute Information:\n",
            "      - age     age in years\n",
            "      - sex\n",
            "      - bmi     body mass index\n",
            "      - bp      average blood pressure\n",
            "      - s1      tc, total serum cholesterol\n",
            "      - s2      ldl, low-density lipoproteins\n",
            "      - s3      hdl, high-density lipoproteins\n",
            "      - s4      tch, total cholesterol / HDL\n",
            "      - s5      ltg, possibly log of serum triglycerides level\n",
            "      - s6      glu, blood sugar level\n",
            "\n",
            "Note: Each of these 10 feature variables have been mean centered and scaled by the standard deviation times the square root of `n_samples` (i.e. the sum of squares of each column totals 1).\n",
            "\n",
            "Source URL:\n",
            "https://www4.stat.ncsu.edu/~boos/var.select/diabetes.html\n",
            "\n",
            "For more information see:\n",
            "Bradley Efron, Trevor Hastie, Iain Johnstone and Robert Tibshirani (2004) \"Least Angle Regression,\" Annals of Statistics (with discussion), 407-499.\n",
            "(https://web.stanford.edu/~hastie/Papers/LARS/LeastAngle_2002.pdf)\n",
            "\n"
          ]
        }
      ]
    },
    {
      "cell_type": "code",
      "source": [
        "X=data.data"
      ],
      "metadata": {
        "id": "lu2wc2Vz5IPu"
      },
      "execution_count": 127,
      "outputs": []
    },
    {
      "cell_type": "code",
      "source": [
        "X"
      ],
      "metadata": {
        "colab": {
          "base_uri": "https://localhost:8080/"
        },
        "id": "ntcIy6PX5TPX",
        "outputId": "45bf0212-a8b4-48c7-95c0-5ab9571320ed"
      },
      "execution_count": 129,
      "outputs": [
        {
          "output_type": "execute_result",
          "data": {
            "text/plain": [
              "array([[ 0.03807591,  0.05068012,  0.06169621, ..., -0.00259226,\n",
              "         0.01990749, -0.01764613],\n",
              "       [-0.00188202, -0.04464164, -0.05147406, ..., -0.03949338,\n",
              "        -0.06833155, -0.09220405],\n",
              "       [ 0.08529891,  0.05068012,  0.04445121, ..., -0.00259226,\n",
              "         0.00286131, -0.02593034],\n",
              "       ...,\n",
              "       [ 0.04170844,  0.05068012, -0.01590626, ..., -0.01107952,\n",
              "        -0.04688253,  0.01549073],\n",
              "       [-0.04547248, -0.04464164,  0.03906215, ...,  0.02655962,\n",
              "         0.04452873, -0.02593034],\n",
              "       [-0.04547248, -0.04464164, -0.0730303 , ..., -0.03949338,\n",
              "        -0.00422151,  0.00306441]])"
            ]
          },
          "metadata": {},
          "execution_count": 129
        }
      ]
    },
    {
      "cell_type": "code",
      "source": [
        "y=data.target"
      ],
      "metadata": {
        "id": "txIefdym0xyJ"
      },
      "execution_count": 130,
      "outputs": []
    },
    {
      "cell_type": "code",
      "source": [
        "y"
      ],
      "metadata": {
        "colab": {
          "base_uri": "https://localhost:8080/"
        },
        "id": "vh437Faz5kKy",
        "outputId": "6c278e70-c022-43df-aec5-a52579407ccc"
      },
      "execution_count": 131,
      "outputs": [
        {
          "output_type": "execute_result",
          "data": {
            "text/plain": [
              "array([151.,  75., 141., 206., 135.,  97., 138.,  63., 110., 310., 101.,\n",
              "        69., 179., 185., 118., 171., 166., 144.,  97., 168.,  68.,  49.,\n",
              "        68., 245., 184., 202., 137.,  85., 131., 283., 129.,  59., 341.,\n",
              "        87.,  65., 102., 265., 276., 252.,  90., 100.,  55.,  61.,  92.,\n",
              "       259.,  53., 190., 142.,  75., 142., 155., 225.,  59., 104., 182.,\n",
              "       128.,  52.,  37., 170., 170.,  61., 144.,  52., 128.,  71., 163.,\n",
              "       150.,  97., 160., 178.,  48., 270., 202., 111.,  85.,  42., 170.,\n",
              "       200., 252., 113., 143.,  51.,  52., 210.,  65., 141.,  55., 134.,\n",
              "        42., 111.,  98., 164.,  48.,  96.,  90., 162., 150., 279.,  92.,\n",
              "        83., 128., 102., 302., 198.,  95.,  53., 134., 144., 232.,  81.,\n",
              "       104.,  59., 246., 297., 258., 229., 275., 281., 179., 200., 200.,\n",
              "       173., 180.,  84., 121., 161.,  99., 109., 115., 268., 274., 158.,\n",
              "       107.,  83., 103., 272.,  85., 280., 336., 281., 118., 317., 235.,\n",
              "        60., 174., 259., 178., 128.,  96., 126., 288.,  88., 292.,  71.,\n",
              "       197., 186.,  25.,  84.,  96., 195.,  53., 217., 172., 131., 214.,\n",
              "        59.,  70., 220., 268., 152.,  47.,  74., 295., 101., 151., 127.,\n",
              "       237., 225.,  81., 151., 107.,  64., 138., 185., 265., 101., 137.,\n",
              "       143., 141.,  79., 292., 178.,  91., 116.,  86., 122.,  72., 129.,\n",
              "       142.,  90., 158.,  39., 196., 222., 277.,  99., 196., 202., 155.,\n",
              "        77., 191.,  70.,  73.,  49.,  65., 263., 248., 296., 214., 185.,\n",
              "        78.,  93., 252., 150.,  77., 208.,  77., 108., 160.,  53., 220.,\n",
              "       154., 259.,  90., 246., 124.,  67.,  72., 257., 262., 275., 177.,\n",
              "        71.,  47., 187., 125.,  78.,  51., 258., 215., 303., 243.,  91.,\n",
              "       150., 310., 153., 346.,  63.,  89.,  50.,  39., 103., 308., 116.,\n",
              "       145.,  74.,  45., 115., 264.,  87., 202., 127., 182., 241.,  66.,\n",
              "        94., 283.,  64., 102., 200., 265.,  94., 230., 181., 156., 233.,\n",
              "        60., 219.,  80.,  68., 332., 248.,  84., 200.,  55.,  85.,  89.,\n",
              "        31., 129.,  83., 275.,  65., 198., 236., 253., 124.,  44., 172.,\n",
              "       114., 142., 109., 180., 144., 163., 147.,  97., 220., 190., 109.,\n",
              "       191., 122., 230., 242., 248., 249., 192., 131., 237.,  78., 135.,\n",
              "       244., 199., 270., 164.,  72.,  96., 306.,  91., 214.,  95., 216.,\n",
              "       263., 178., 113., 200., 139., 139.,  88., 148.,  88., 243.,  71.,\n",
              "        77., 109., 272.,  60.,  54., 221.,  90., 311., 281., 182., 321.,\n",
              "        58., 262., 206., 233., 242., 123., 167.,  63., 197.,  71., 168.,\n",
              "       140., 217., 121., 235., 245.,  40.,  52., 104., 132.,  88.,  69.,\n",
              "       219.,  72., 201., 110.,  51., 277.,  63., 118.,  69., 273., 258.,\n",
              "        43., 198., 242., 232., 175.,  93., 168., 275., 293., 281.,  72.,\n",
              "       140., 189., 181., 209., 136., 261., 113., 131., 174., 257.,  55.,\n",
              "        84.,  42., 146., 212., 233.,  91., 111., 152., 120.,  67., 310.,\n",
              "        94., 183.,  66., 173.,  72.,  49.,  64.,  48., 178., 104., 132.,\n",
              "       220.,  57.])"
            ]
          },
          "metadata": {},
          "execution_count": 131
        }
      ]
    },
    {
      "cell_type": "code",
      "source": [
        "from sklearn.model_selection import train_test_split\n",
        "\n"
      ],
      "metadata": {
        "id": "PQeeC1bm4WUQ"
      },
      "execution_count": 138,
      "outputs": []
    },
    {
      "cell_type": "code",
      "source": [
        " X_train,X_test,y_train,y_test=train_test_split(X,y,test_size=0.2,random_state=3)"
      ],
      "metadata": {
        "id": "KCUo2UPw6LzD"
      },
      "execution_count": 140,
      "outputs": []
    },
    {
      "cell_type": "code",
      "source": [
        " X_train"
      ],
      "metadata": {
        "colab": {
          "base_uri": "https://localhost:8080/"
        },
        "id": "2HhUQHJq4WXe",
        "outputId": "b1e2d988-b26d-4126-ce26-5d54e93cb7de"
      },
      "execution_count": 141,
      "outputs": [
        {
          "output_type": "execute_result",
          "data": {
            "text/plain": [
              "array([[ 0.06713621, -0.04464164, -0.06117437, ..., -0.03949338,\n",
              "        -0.0561531 , -0.05906719],\n",
              "       [-0.05273755, -0.04464164, -0.01267283, ..., -0.00259226,\n",
              "        -0.02712902, -0.05078298],\n",
              "       [-0.05273755, -0.04464164, -0.05578531, ...,  0.03430886,\n",
              "         0.13237579,  0.00306441],\n",
              "       ...,\n",
              "       [-0.01277963, -0.04464164,  0.06061839, ...,  0.03430886,\n",
              "         0.07020738,  0.00720652],\n",
              "       [-0.03457486,  0.05068012, -0.00081689, ...,  0.1081111 ,\n",
              "         0.02671684,  0.07348023],\n",
              "       [ 0.01991321,  0.05068012,  0.10480869, ..., -0.00259226,\n",
              "         0.00370906,  0.04034337]])"
            ]
          },
          "metadata": {},
          "execution_count": 141
        }
      ]
    },
    {
      "cell_type": "code",
      "source": [
        "y_train"
      ],
      "metadata": {
        "colab": {
          "base_uri": "https://localhost:8080/"
        },
        "id": "gpLZ8CPG4WdS",
        "outputId": "2dea6d0d-0b8b-4a23-adab-791a96a5e873"
      },
      "execution_count": 143,
      "outputs": [
        {
          "output_type": "execute_result",
          "data": {
            "text/plain": [
              "array([ 89., 160., 109., 198.,  72., 274., 258., 121., 272., 168., 128.,\n",
              "        72., 280.,  84., 172., 192., 181., 140., 127.,  67., 232., 108.,\n",
              "       125., 332., 118., 109., 257., 308.,  52., 164., 104.,  79.,  65.,\n",
              "        52., 132., 225.,  92., 101.,  90., 235., 186.,  85., 245.,  87.,\n",
              "       178., 245., 198.,  72., 101., 155., 252.,  49.,  97.,  42., 235.,\n",
              "       142., 190.,  48., 104., 113., 129., 310., 137., 212., 116., 229.,\n",
              "       202., 163., 243.,  63., 173., 191., 120., 160., 292., 200.,  39.,\n",
              "       102., 262., 170., 161.,  61., 135., 173., 146.,  95., 277., 116.,\n",
              "       147.,  81., 179., 264.,  70., 138.,  54.,  51.,  45., 311.,  39.,\n",
              "        86., 103., 208., 201., 206., 265., 180., 252.,  88., 148.,  71.,\n",
              "        97., 253.,  88.,  94.,  92., 107., 163., 131.,  55., 118.,  60.,\n",
              "       174.,  64.,  83., 131.,  94., 268., 182.,  53., 191.,  60., 153.,\n",
              "        42., 237.,  55., 187.,  49., 233., 232., 225.,  37., 277., 222.,\n",
              "       206.,  80., 241., 189.,  47., 283., 172., 126., 270., 261.,  90.,\n",
              "        78.,  90.,  74.,  69.,  93., 141., 107., 143., 178., 258., 111.,\n",
              "        69.,  65., 296., 202.,  78., 109., 135., 113., 179., 142.,  49.,\n",
              "       110., 246., 197., 236., 113., 150.,  72., 128., 252., 162., 185.,\n",
              "       144.,  84.,  78., 104., 202.,  98.,  60.,  90.,  55.,  64., 129.,\n",
              "       259.,  96.,  90., 122., 230., 124., 158.,  84., 270., 293., 123.,\n",
              "       190., 139., 136., 216.,  83.,  61., 244., 152., 128., 168., 214.,\n",
              "       209., 145., 283., 110., 142., 181.,  48.,  91., 341., 272.,  68.,\n",
              "        52.,  67., 263.,  72., 168.,  63.,  59., 262., 101., 102.,  81.,\n",
              "       220.,  77., 200.,  94., 259., 275., 249., 170., 155.,  73., 115.,\n",
              "       180., 248.,  69., 310., 221., 140., 233.,  85.,  95., 144., 111.,\n",
              "        48., 164., 138.,  97., 275., 295., 259., 257., 265.,  25., 141.,\n",
              "        71., 114.,  68.,  75., 317., 150.,  77., 185., 199.,  63.,  53.,\n",
              "       306., 185.,  83., 124., 258., 281., 263.,  75., 297.,  72., 151.,\n",
              "       150.,  51., 265.,  59.,  71.,  66.,  91., 151., 182., 217., 131.,\n",
              "       196.,  88., 142., 243.,  68., 200., 237.,  96.,  40.,  87.,  74.,\n",
              "        63., 109., 220., 134., 279., 104., 281., 178., 139., 268., 220.,\n",
              "        89., 242., 288.,  91., 137., 242.,  91.,  96.,  96., 233., 200.,\n",
              "       281., 336., 152.,  58., 196., 128.,  64., 346., 158., 215., 292.,\n",
              "       321.])"
            ]
          },
          "metadata": {},
          "execution_count": 143
        }
      ]
    },
    {
      "cell_type": "code",
      "source": [
        "model3=LinearRegression()"
      ],
      "metadata": {
        "id": "1ElX_X7E4Wg1"
      },
      "execution_count": 147,
      "outputs": []
    },
    {
      "cell_type": "code",
      "source": [
        "model3.fit(X_train,y_train)"
      ],
      "metadata": {
        "colab": {
          "base_uri": "https://localhost:8080/",
          "height": 74
        },
        "id": "xyBqvNTI4Wj5",
        "outputId": "832854e6-8a2e-4c37-8be9-7949390dfed7"
      },
      "execution_count": 149,
      "outputs": [
        {
          "output_type": "execute_result",
          "data": {
            "text/plain": [
              "LinearRegression()"
            ],
            "text/html": [
              "<style>#sk-container-id-3 {color: black;background-color: white;}#sk-container-id-3 pre{padding: 0;}#sk-container-id-3 div.sk-toggleable {background-color: white;}#sk-container-id-3 label.sk-toggleable__label {cursor: pointer;display: block;width: 100%;margin-bottom: 0;padding: 0.3em;box-sizing: border-box;text-align: center;}#sk-container-id-3 label.sk-toggleable__label-arrow:before {content: \"▸\";float: left;margin-right: 0.25em;color: #696969;}#sk-container-id-3 label.sk-toggleable__label-arrow:hover:before {color: black;}#sk-container-id-3 div.sk-estimator:hover label.sk-toggleable__label-arrow:before {color: black;}#sk-container-id-3 div.sk-toggleable__content {max-height: 0;max-width: 0;overflow: hidden;text-align: left;background-color: #f0f8ff;}#sk-container-id-3 div.sk-toggleable__content pre {margin: 0.2em;color: black;border-radius: 0.25em;background-color: #f0f8ff;}#sk-container-id-3 input.sk-toggleable__control:checked~div.sk-toggleable__content {max-height: 200px;max-width: 100%;overflow: auto;}#sk-container-id-3 input.sk-toggleable__control:checked~label.sk-toggleable__label-arrow:before {content: \"▾\";}#sk-container-id-3 div.sk-estimator input.sk-toggleable__control:checked~label.sk-toggleable__label {background-color: #d4ebff;}#sk-container-id-3 div.sk-label input.sk-toggleable__control:checked~label.sk-toggleable__label {background-color: #d4ebff;}#sk-container-id-3 input.sk-hidden--visually {border: 0;clip: rect(1px 1px 1px 1px);clip: rect(1px, 1px, 1px, 1px);height: 1px;margin: -1px;overflow: hidden;padding: 0;position: absolute;width: 1px;}#sk-container-id-3 div.sk-estimator {font-family: monospace;background-color: #f0f8ff;border: 1px dotted black;border-radius: 0.25em;box-sizing: border-box;margin-bottom: 0.5em;}#sk-container-id-3 div.sk-estimator:hover {background-color: #d4ebff;}#sk-container-id-3 div.sk-parallel-item::after {content: \"\";width: 100%;border-bottom: 1px solid gray;flex-grow: 1;}#sk-container-id-3 div.sk-label:hover label.sk-toggleable__label {background-color: #d4ebff;}#sk-container-id-3 div.sk-serial::before {content: \"\";position: absolute;border-left: 1px solid gray;box-sizing: border-box;top: 0;bottom: 0;left: 50%;z-index: 0;}#sk-container-id-3 div.sk-serial {display: flex;flex-direction: column;align-items: center;background-color: white;padding-right: 0.2em;padding-left: 0.2em;position: relative;}#sk-container-id-3 div.sk-item {position: relative;z-index: 1;}#sk-container-id-3 div.sk-parallel {display: flex;align-items: stretch;justify-content: center;background-color: white;position: relative;}#sk-container-id-3 div.sk-item::before, #sk-container-id-3 div.sk-parallel-item::before {content: \"\";position: absolute;border-left: 1px solid gray;box-sizing: border-box;top: 0;bottom: 0;left: 50%;z-index: -1;}#sk-container-id-3 div.sk-parallel-item {display: flex;flex-direction: column;z-index: 1;position: relative;background-color: white;}#sk-container-id-3 div.sk-parallel-item:first-child::after {align-self: flex-end;width: 50%;}#sk-container-id-3 div.sk-parallel-item:last-child::after {align-self: flex-start;width: 50%;}#sk-container-id-3 div.sk-parallel-item:only-child::after {width: 0;}#sk-container-id-3 div.sk-dashed-wrapped {border: 1px dashed gray;margin: 0 0.4em 0.5em 0.4em;box-sizing: border-box;padding-bottom: 0.4em;background-color: white;}#sk-container-id-3 div.sk-label label {font-family: monospace;font-weight: bold;display: inline-block;line-height: 1.2em;}#sk-container-id-3 div.sk-label-container {text-align: center;}#sk-container-id-3 div.sk-container {/* jupyter's `normalize.less` sets `[hidden] { display: none; }` but bootstrap.min.css set `[hidden] { display: none !important; }` so we also need the `!important` here to be able to override the default hidden behavior on the sphinx rendered scikit-learn.org. See: https://github.com/scikit-learn/scikit-learn/issues/21755 */display: inline-block !important;position: relative;}#sk-container-id-3 div.sk-text-repr-fallback {display: none;}</style><div id=\"sk-container-id-3\" class=\"sk-top-container\"><div class=\"sk-text-repr-fallback\"><pre>LinearRegression()</pre><b>In a Jupyter environment, please rerun this cell to show the HTML representation or trust the notebook. <br />On GitHub, the HTML representation is unable to render, please try loading this page with nbviewer.org.</b></div><div class=\"sk-container\" hidden><div class=\"sk-item\"><div class=\"sk-estimator sk-toggleable\"><input class=\"sk-toggleable__control sk-hidden--visually\" id=\"sk-estimator-id-3\" type=\"checkbox\" checked><label for=\"sk-estimator-id-3\" class=\"sk-toggleable__label sk-toggleable__label-arrow\">LinearRegression</label><div class=\"sk-toggleable__content\"><pre>LinearRegression()</pre></div></div></div></div></div>"
            ]
          },
          "metadata": {},
          "execution_count": 149
        }
      ]
    },
    {
      "cell_type": "code",
      "source": [
        "model3.score(X_train,y_train)"
      ],
      "metadata": {
        "colab": {
          "base_uri": "https://localhost:8080/"
        },
        "id": "j1yORh3-7yqD",
        "outputId": "2a02b8c5-47a2-40a4-9341-d8ccd3bc96a3"
      },
      "execution_count": 152,
      "outputs": [
        {
          "output_type": "execute_result",
          "data": {
            "text/plain": [
              "0.5366497197782092"
            ]
          },
          "metadata": {},
          "execution_count": 152
        }
      ]
    },
    {
      "cell_type": "code",
      "source": [
        "#for training the score is 0.51"
      ],
      "metadata": {
        "id": "8KcsUNih8Czm"
      },
      "execution_count": null,
      "outputs": []
    },
    {
      "cell_type": "code",
      "source": [
        "y_pred3=model3.predict(X_test)"
      ],
      "metadata": {
        "id": "zxatxKus4Ww8"
      },
      "execution_count": 150,
      "outputs": []
    },
    {
      "cell_type": "code",
      "source": [
        "r2_score(y_test,y_pred3)"
      ],
      "metadata": {
        "colab": {
          "base_uri": "https://localhost:8080/"
        },
        "id": "0bZ2B8877jH3",
        "outputId": "4936f1f2-1496-417a-88ee-ef370502b42a"
      },
      "execution_count": 151,
      "outputs": [
        {
          "output_type": "execute_result",
          "data": {
            "text/plain": [
              "0.4161792211496943"
            ]
          },
          "metadata": {},
          "execution_count": 151
        }
      ]
    },
    {
      "cell_type": "code",
      "source": [
        "#for training the score is 0.518"
      ],
      "metadata": {
        "id": "INODp83M7jLU"
      },
      "execution_count": null,
      "outputs": []
    },
    {
      "cell_type": "code",
      "source": [
        "from sklearn . linear_model import Ridge"
      ],
      "metadata": {
        "id": "GjTj8bKE7jOL"
      },
      "execution_count": 154,
      "outputs": []
    },
    {
      "cell_type": "code",
      "source": [
        "model4=Ridge()"
      ],
      "metadata": {
        "id": "qn7avyUL7jRA"
      },
      "execution_count": 155,
      "outputs": []
    },
    {
      "cell_type": "code",
      "source": [
        "model4.fit(X_train,y_train)"
      ],
      "metadata": {
        "colab": {
          "base_uri": "https://localhost:8080/",
          "height": 74
        },
        "id": "qRQvGBrW7jT_",
        "outputId": "a88b8dbe-6822-43a2-e4f2-beaed92a4c7b"
      },
      "execution_count": 156,
      "outputs": [
        {
          "output_type": "execute_result",
          "data": {
            "text/plain": [
              "Ridge()"
            ],
            "text/html": [
              "<style>#sk-container-id-4 {color: black;background-color: white;}#sk-container-id-4 pre{padding: 0;}#sk-container-id-4 div.sk-toggleable {background-color: white;}#sk-container-id-4 label.sk-toggleable__label {cursor: pointer;display: block;width: 100%;margin-bottom: 0;padding: 0.3em;box-sizing: border-box;text-align: center;}#sk-container-id-4 label.sk-toggleable__label-arrow:before {content: \"▸\";float: left;margin-right: 0.25em;color: #696969;}#sk-container-id-4 label.sk-toggleable__label-arrow:hover:before {color: black;}#sk-container-id-4 div.sk-estimator:hover label.sk-toggleable__label-arrow:before {color: black;}#sk-container-id-4 div.sk-toggleable__content {max-height: 0;max-width: 0;overflow: hidden;text-align: left;background-color: #f0f8ff;}#sk-container-id-4 div.sk-toggleable__content pre {margin: 0.2em;color: black;border-radius: 0.25em;background-color: #f0f8ff;}#sk-container-id-4 input.sk-toggleable__control:checked~div.sk-toggleable__content {max-height: 200px;max-width: 100%;overflow: auto;}#sk-container-id-4 input.sk-toggleable__control:checked~label.sk-toggleable__label-arrow:before {content: \"▾\";}#sk-container-id-4 div.sk-estimator input.sk-toggleable__control:checked~label.sk-toggleable__label {background-color: #d4ebff;}#sk-container-id-4 div.sk-label input.sk-toggleable__control:checked~label.sk-toggleable__label {background-color: #d4ebff;}#sk-container-id-4 input.sk-hidden--visually {border: 0;clip: rect(1px 1px 1px 1px);clip: rect(1px, 1px, 1px, 1px);height: 1px;margin: -1px;overflow: hidden;padding: 0;position: absolute;width: 1px;}#sk-container-id-4 div.sk-estimator {font-family: monospace;background-color: #f0f8ff;border: 1px dotted black;border-radius: 0.25em;box-sizing: border-box;margin-bottom: 0.5em;}#sk-container-id-4 div.sk-estimator:hover {background-color: #d4ebff;}#sk-container-id-4 div.sk-parallel-item::after {content: \"\";width: 100%;border-bottom: 1px solid gray;flex-grow: 1;}#sk-container-id-4 div.sk-label:hover label.sk-toggleable__label {background-color: #d4ebff;}#sk-container-id-4 div.sk-serial::before {content: \"\";position: absolute;border-left: 1px solid gray;box-sizing: border-box;top: 0;bottom: 0;left: 50%;z-index: 0;}#sk-container-id-4 div.sk-serial {display: flex;flex-direction: column;align-items: center;background-color: white;padding-right: 0.2em;padding-left: 0.2em;position: relative;}#sk-container-id-4 div.sk-item {position: relative;z-index: 1;}#sk-container-id-4 div.sk-parallel {display: flex;align-items: stretch;justify-content: center;background-color: white;position: relative;}#sk-container-id-4 div.sk-item::before, #sk-container-id-4 div.sk-parallel-item::before {content: \"\";position: absolute;border-left: 1px solid gray;box-sizing: border-box;top: 0;bottom: 0;left: 50%;z-index: -1;}#sk-container-id-4 div.sk-parallel-item {display: flex;flex-direction: column;z-index: 1;position: relative;background-color: white;}#sk-container-id-4 div.sk-parallel-item:first-child::after {align-self: flex-end;width: 50%;}#sk-container-id-4 div.sk-parallel-item:last-child::after {align-self: flex-start;width: 50%;}#sk-container-id-4 div.sk-parallel-item:only-child::after {width: 0;}#sk-container-id-4 div.sk-dashed-wrapped {border: 1px dashed gray;margin: 0 0.4em 0.5em 0.4em;box-sizing: border-box;padding-bottom: 0.4em;background-color: white;}#sk-container-id-4 div.sk-label label {font-family: monospace;font-weight: bold;display: inline-block;line-height: 1.2em;}#sk-container-id-4 div.sk-label-container {text-align: center;}#sk-container-id-4 div.sk-container {/* jupyter's `normalize.less` sets `[hidden] { display: none; }` but bootstrap.min.css set `[hidden] { display: none !important; }` so we also need the `!important` here to be able to override the default hidden behavior on the sphinx rendered scikit-learn.org. See: https://github.com/scikit-learn/scikit-learn/issues/21755 */display: inline-block !important;position: relative;}#sk-container-id-4 div.sk-text-repr-fallback {display: none;}</style><div id=\"sk-container-id-4\" class=\"sk-top-container\"><div class=\"sk-text-repr-fallback\"><pre>Ridge()</pre><b>In a Jupyter environment, please rerun this cell to show the HTML representation or trust the notebook. <br />On GitHub, the HTML representation is unable to render, please try loading this page with nbviewer.org.</b></div><div class=\"sk-container\" hidden><div class=\"sk-item\"><div class=\"sk-estimator sk-toggleable\"><input class=\"sk-toggleable__control sk-hidden--visually\" id=\"sk-estimator-id-4\" type=\"checkbox\" checked><label for=\"sk-estimator-id-4\" class=\"sk-toggleable__label sk-toggleable__label-arrow\">Ridge</label><div class=\"sk-toggleable__content\"><pre>Ridge()</pre></div></div></div></div></div>"
            ]
          },
          "metadata": {},
          "execution_count": 156
        }
      ]
    },
    {
      "cell_type": "code",
      "source": [
        "model4.score(X_train,y_train)"
      ],
      "metadata": {
        "colab": {
          "base_uri": "https://localhost:8080/"
        },
        "id": "ZA4B4tIr7jXO",
        "outputId": "4c5dd480-eeb2-4330-d5ec-98b07f35533d"
      },
      "execution_count": 157,
      "outputs": [
        {
          "output_type": "execute_result",
          "data": {
            "text/plain": [
              "0.45392016978732497"
            ]
          },
          "metadata": {},
          "execution_count": 157
        }
      ]
    },
    {
      "cell_type": "code",
      "source": [
        "model4.predict(X_test)"
      ],
      "metadata": {
        "colab": {
          "base_uri": "https://localhost:8080/"
        },
        "id": "M_FLU_kI7jaN",
        "outputId": "618696d0-14da-4a9f-d8ca-815750eeee71"
      },
      "execution_count": 163,
      "outputs": [
        {
          "output_type": "execute_result",
          "data": {
            "text/plain": [
              "array([124.23694719, 160.33557607, 127.15092177, 146.36680658,\n",
              "       180.37812231, 115.43667849, 141.31077991, 193.81197608,\n",
              "       161.1830826 , 151.59606138, 163.83389858, 161.6760943 ,\n",
              "       144.88789933, 218.10471229,  83.09414854, 148.99714886,\n",
              "       125.50361432, 176.40241648, 169.62489927, 141.61905585,\n",
              "       152.73940948, 112.94338025, 166.36650588, 177.97953034,\n",
              "       172.30778013, 173.57972635, 178.18590698, 182.96145141,\n",
              "       138.21874972, 181.41053648, 232.65689213, 144.00789141,\n",
              "       186.60920319, 145.87235279, 159.42840586,  85.88516074,\n",
              "       153.27400663, 104.08240377, 136.35470276, 179.51061191,\n",
              "       141.68326212, 197.7978547 , 143.88987446, 134.69179204,\n",
              "       146.46871403, 110.70108837, 137.18919637, 220.19426089,\n",
              "       133.2329082 , 174.25731341, 137.74066339, 125.07580962,\n",
              "       143.07136766, 181.33830035, 161.59550338, 154.84702549,\n",
              "       132.82683299, 215.7682087 , 202.08594208, 159.24046086,\n",
              "       138.28210433, 147.08848783, 102.94357255, 155.12298645,\n",
              "       151.67879024, 114.91592707,  88.30905539, 105.92907903,\n",
              "       108.03247861, 147.03313233, 173.78779585, 131.84295129,\n",
              "       156.61151944, 148.42756252, 183.41953947,  89.91751166,\n",
              "       223.12444219, 101.23060296, 132.99774113, 132.568397  ,\n",
              "       207.82650262, 142.57703711, 175.06364036, 224.54122483,\n",
              "       145.25755007,  94.51273989, 146.50859169, 148.16126885,\n",
              "       172.42493071])"
            ]
          },
          "metadata": {},
          "execution_count": 163
        }
      ]
    },
    {
      "cell_type": "code",
      "source": [
        "y_pred4=model4.predict(X_test)"
      ],
      "metadata": {
        "id": "-oXGhXTh7jdV"
      },
      "execution_count": 164,
      "outputs": []
    },
    {
      "cell_type": "code",
      "source": [
        "r2_score(y_test,y_pred4)"
      ],
      "metadata": {
        "colab": {
          "base_uri": "https://localhost:8080/"
        },
        "id": "Hq6LnCDmAjNw",
        "outputId": "45750859-c40b-4ffc-8c7b-3a9f5f576f82"
      },
      "execution_count": 165,
      "outputs": [
        {
          "output_type": "execute_result",
          "data": {
            "text/plain": [
              "0.35655376782176307"
            ]
          },
          "metadata": {},
          "execution_count": 165
        }
      ]
    },
    {
      "cell_type": "code",
      "source": [
        "model5=Ridge(alpha=100)"
      ],
      "metadata": {
        "id": "08I3MHKCAjSM"
      },
      "execution_count": 166,
      "outputs": []
    },
    {
      "cell_type": "code",
      "source": [
        "model5.fit(X_train,y_train)"
      ],
      "metadata": {
        "colab": {
          "base_uri": "https://localhost:8080/",
          "height": 74
        },
        "id": "QKItMIF7AjVQ",
        "outputId": "53510010-e062-42cb-e8e6-28a6e3e84eeb"
      },
      "execution_count": 168,
      "outputs": [
        {
          "output_type": "execute_result",
          "data": {
            "text/plain": [
              "Ridge(alpha=100)"
            ],
            "text/html": [
              "<style>#sk-container-id-5 {color: black;background-color: white;}#sk-container-id-5 pre{padding: 0;}#sk-container-id-5 div.sk-toggleable {background-color: white;}#sk-container-id-5 label.sk-toggleable__label {cursor: pointer;display: block;width: 100%;margin-bottom: 0;padding: 0.3em;box-sizing: border-box;text-align: center;}#sk-container-id-5 label.sk-toggleable__label-arrow:before {content: \"▸\";float: left;margin-right: 0.25em;color: #696969;}#sk-container-id-5 label.sk-toggleable__label-arrow:hover:before {color: black;}#sk-container-id-5 div.sk-estimator:hover label.sk-toggleable__label-arrow:before {color: black;}#sk-container-id-5 div.sk-toggleable__content {max-height: 0;max-width: 0;overflow: hidden;text-align: left;background-color: #f0f8ff;}#sk-container-id-5 div.sk-toggleable__content pre {margin: 0.2em;color: black;border-radius: 0.25em;background-color: #f0f8ff;}#sk-container-id-5 input.sk-toggleable__control:checked~div.sk-toggleable__content {max-height: 200px;max-width: 100%;overflow: auto;}#sk-container-id-5 input.sk-toggleable__control:checked~label.sk-toggleable__label-arrow:before {content: \"▾\";}#sk-container-id-5 div.sk-estimator input.sk-toggleable__control:checked~label.sk-toggleable__label {background-color: #d4ebff;}#sk-container-id-5 div.sk-label input.sk-toggleable__control:checked~label.sk-toggleable__label {background-color: #d4ebff;}#sk-container-id-5 input.sk-hidden--visually {border: 0;clip: rect(1px 1px 1px 1px);clip: rect(1px, 1px, 1px, 1px);height: 1px;margin: -1px;overflow: hidden;padding: 0;position: absolute;width: 1px;}#sk-container-id-5 div.sk-estimator {font-family: monospace;background-color: #f0f8ff;border: 1px dotted black;border-radius: 0.25em;box-sizing: border-box;margin-bottom: 0.5em;}#sk-container-id-5 div.sk-estimator:hover {background-color: #d4ebff;}#sk-container-id-5 div.sk-parallel-item::after {content: \"\";width: 100%;border-bottom: 1px solid gray;flex-grow: 1;}#sk-container-id-5 div.sk-label:hover label.sk-toggleable__label {background-color: #d4ebff;}#sk-container-id-5 div.sk-serial::before {content: \"\";position: absolute;border-left: 1px solid gray;box-sizing: border-box;top: 0;bottom: 0;left: 50%;z-index: 0;}#sk-container-id-5 div.sk-serial {display: flex;flex-direction: column;align-items: center;background-color: white;padding-right: 0.2em;padding-left: 0.2em;position: relative;}#sk-container-id-5 div.sk-item {position: relative;z-index: 1;}#sk-container-id-5 div.sk-parallel {display: flex;align-items: stretch;justify-content: center;background-color: white;position: relative;}#sk-container-id-5 div.sk-item::before, #sk-container-id-5 div.sk-parallel-item::before {content: \"\";position: absolute;border-left: 1px solid gray;box-sizing: border-box;top: 0;bottom: 0;left: 50%;z-index: -1;}#sk-container-id-5 div.sk-parallel-item {display: flex;flex-direction: column;z-index: 1;position: relative;background-color: white;}#sk-container-id-5 div.sk-parallel-item:first-child::after {align-self: flex-end;width: 50%;}#sk-container-id-5 div.sk-parallel-item:last-child::after {align-self: flex-start;width: 50%;}#sk-container-id-5 div.sk-parallel-item:only-child::after {width: 0;}#sk-container-id-5 div.sk-dashed-wrapped {border: 1px dashed gray;margin: 0 0.4em 0.5em 0.4em;box-sizing: border-box;padding-bottom: 0.4em;background-color: white;}#sk-container-id-5 div.sk-label label {font-family: monospace;font-weight: bold;display: inline-block;line-height: 1.2em;}#sk-container-id-5 div.sk-label-container {text-align: center;}#sk-container-id-5 div.sk-container {/* jupyter's `normalize.less` sets `[hidden] { display: none; }` but bootstrap.min.css set `[hidden] { display: none !important; }` so we also need the `!important` here to be able to override the default hidden behavior on the sphinx rendered scikit-learn.org. See: https://github.com/scikit-learn/scikit-learn/issues/21755 */display: inline-block !important;position: relative;}#sk-container-id-5 div.sk-text-repr-fallback {display: none;}</style><div id=\"sk-container-id-5\" class=\"sk-top-container\"><div class=\"sk-text-repr-fallback\"><pre>Ridge(alpha=100)</pre><b>In a Jupyter environment, please rerun this cell to show the HTML representation or trust the notebook. <br />On GitHub, the HTML representation is unable to render, please try loading this page with nbviewer.org.</b></div><div class=\"sk-container\" hidden><div class=\"sk-item\"><div class=\"sk-estimator sk-toggleable\"><input class=\"sk-toggleable__control sk-hidden--visually\" id=\"sk-estimator-id-5\" type=\"checkbox\" checked><label for=\"sk-estimator-id-5\" class=\"sk-toggleable__label sk-toggleable__label-arrow\">Ridge</label><div class=\"sk-toggleable__content\"><pre>Ridge(alpha=100)</pre></div></div></div></div></div>"
            ]
          },
          "metadata": {},
          "execution_count": 168
        }
      ]
    },
    {
      "cell_type": "code",
      "source": [
        "model5.score(X_train,y_train)"
      ],
      "metadata": {
        "colab": {
          "base_uri": "https://localhost:8080/"
        },
        "id": "PVoOZ2ZXAjYo",
        "outputId": "6d549f7e-2a57-41e6-8af5-e413b9c64e79"
      },
      "execution_count": 169,
      "outputs": [
        {
          "output_type": "execute_result",
          "data": {
            "text/plain": [
              "0.02428042542191955"
            ]
          },
          "metadata": {},
          "execution_count": 169
        }
      ]
    },
    {
      "cell_type": "code",
      "source": [
        "y_pred5=model5.predict(X_test)"
      ],
      "metadata": {
        "id": "Pk65kMlSAjbj"
      },
      "execution_count": 170,
      "outputs": []
    },
    {
      "cell_type": "code",
      "source": [
        "r2_score(y_test,y_pred5)"
      ],
      "metadata": {
        "colab": {
          "base_uri": "https://localhost:8080/"
        },
        "id": "IY2dYmUpBVaL",
        "outputId": "3952ee1e-efe3-4d7e-fb2b-2555a302104a"
      },
      "execution_count": 171,
      "outputs": [
        {
          "output_type": "execute_result",
          "data": {
            "text/plain": [
              "0.010704928603219144"
            ]
          },
          "metadata": {},
          "execution_count": 171
        }
      ]
    },
    {
      "cell_type": "code",
      "source": [
        "model5.coef_"
      ],
      "metadata": {
        "colab": {
          "base_uri": "https://localhost:8080/"
        },
        "id": "Tb8Z65yMBVi6",
        "outputId": "2b748dd2-14df-4dbc-f7aa-a540071e65a9"
      },
      "execution_count": 172,
      "outputs": [
        {
          "output_type": "execute_result",
          "data": {
            "text/plain": [
              "array([ 2.36804022,  0.97774766,  7.83470465,  5.82163699,  2.23496868,\n",
              "        1.9455898 , -5.56580988,  5.75155963,  7.23958895,  5.32686222])"
            ]
          },
          "metadata": {},
          "execution_count": 172
        }
      ]
    },
    {
      "cell_type": "code",
      "source": [
        "model5.intercept_"
      ],
      "metadata": {
        "colab": {
          "base_uri": "https://localhost:8080/"
        },
        "id": "hkZ7Xs-EBVm2",
        "outputId": "aaba3e20-9dda-4838-ddf1-f31fc5568c65"
      },
      "execution_count": 173,
      "outputs": [
        {
          "output_type": "execute_result",
          "data": {
            "text/plain": [
              "153.55707882607658"
            ]
          },
          "metadata": {},
          "execution_count": 173
        }
      ]
    },
    {
      "cell_type": "code",
      "source": [
        "pip install sklearn.liner_model\n"
      ],
      "metadata": {
        "colab": {
          "base_uri": "https://localhost:8080/"
        },
        "id": "V0CnaHpHEQO_",
        "outputId": "bf6ff4ca-7c09-4403-c62b-95673e6acfaf"
      },
      "execution_count": 177,
      "outputs": [
        {
          "output_type": "stream",
          "name": "stdout",
          "text": [
            "\u001b[31mERROR: Could not find a version that satisfies the requirement sklearn.liner_model (from versions: none)\u001b[0m\u001b[31m\n",
            "\u001b[0m\u001b[31mERROR: No matching distribution found for sklearn.liner_model\u001b[0m\u001b[31m\n",
            "\u001b[0m"
          ]
        }
      ]
    },
    {
      "cell_type": "code",
      "source": [
        "X,y=make_regression(n_samples=200,n_features=1,n_informative=1,n_targets=1,noise=40,random_state=13)\n",
        "\n",
        "X_train,X_test,y_train,y_test=train_test_split(X,y,test_size=0.2)\n",
        "\n",
        "plt.scatter(X,y)\n",
        "\n",
        "from sklearn.linear_model import LinearRegression\n",
        "\n",
        "reg=LinearRegression()\n",
        "reg.fit(X_train,y_train)\n",
        "print(reg.coef_)\n",
        "print(reg.intercept_)"
      ],
      "metadata": {
        "colab": {
          "base_uri": "https://localhost:8080/",
          "height": 465
        },
        "id": "1D69FIqwCBu1",
        "outputId": "e9925b87-63ac-4a54-a2bd-f68640dad546"
      },
      "execution_count": 181,
      "outputs": [
        {
          "output_type": "stream",
          "name": "stdout",
          "text": [
            "[17.28738084]\n",
            "-3.5555922800948667\n"
          ]
        },
        {
          "output_type": "display_data",
          "data": {
            "text/plain": [
              "<Figure size 640x480 with 1 Axes>"
            ],
            "image/png": "[encoded data removed]"
          },
          "metadata": {}
        }
      ]
    },
    {
      "cell_type": "code",
      "source": [
        "X"
      ],
      "metadata": {
        "colab": {
          "base_uri": "https://localhost:8080/"
        },
        "id": "4zi0P5WECBxi",
        "outputId": "97556f98-eb8b-4ce3-ff20-66760becdf9b"
      },
      "execution_count": 182,
      "outputs": [
        {
          "output_type": "execute_result",
          "data": {
            "text/plain": [
              "array([[ 0.29202649],\n",
              "       [ 0.7473716 ],\n",
              "       [-0.71239066],\n",
              "       [-1.61510796],\n",
              "       [ 0.86281689],\n",
              "       [-0.45375238],\n",
              "       [-0.98416078],\n",
              "       [-0.23242587],\n",
              "       [-0.24332625],\n",
              "       [-0.84447641],\n",
              "       [-0.53032741],\n",
              "       [ 2.01522083],\n",
              "       [-0.55340262],\n",
              "       [ 1.89274222],\n",
              "       [ 0.71332542],\n",
              "       [ 0.86837751],\n",
              "       [-0.49429865],\n",
              "       [ 0.45053118],\n",
              "       [ 0.29164051],\n",
              "       [-0.92833523],\n",
              "       [ 2.05369324],\n",
              "       [ 0.0046139 ],\n",
              "       [ 0.93846047],\n",
              "       [-0.51082623],\n",
              "       [-2.18711527],\n",
              "       [ 0.05569219],\n",
              "       [ 1.17903474],\n",
              "       [ 0.08086619],\n",
              "       [ 0.56284679],\n",
              "       [-1.81842142],\n",
              "       [-0.64379706],\n",
              "       [ 0.14375578],\n",
              "       [ 0.51432886],\n",
              "       [ 0.91998513],\n",
              "       [ 0.95283061],\n",
              "       [-0.05753239],\n",
              "       [-0.26424741],\n",
              "       [-0.91134478],\n",
              "       [ 0.50116769],\n",
              "       [ 0.40067367],\n",
              "       [ 0.56465429],\n",
              "       [ 1.350306  ],\n",
              "       [ 0.21745166],\n",
              "       [-1.63909341],\n",
              "       [-1.26160595],\n",
              "       [ 1.13833305],\n",
              "       [-0.27813452],\n",
              "       [-0.31726597],\n",
              "       [-1.07609147],\n",
              "       [ 0.76223082],\n",
              "       [-0.25251759],\n",
              "       [-0.42989708],\n",
              "       [ 0.25724901],\n",
              "       [ 1.07568153],\n",
              "       [ 0.01997092],\n",
              "       [-1.94539068],\n",
              "       [-0.41926032],\n",
              "       [ 0.86121137],\n",
              "       [-0.6209797 ],\n",
              "       [ 0.99294913],\n",
              "       [-1.18541881],\n",
              "       [-0.67537506],\n",
              "       [-0.6606325 ],\n",
              "       [ 0.72916547],\n",
              "       [-0.75988478],\n",
              "       [-0.02677165],\n",
              "       [-0.31485808],\n",
              "       [-0.43714566],\n",
              "       [ 0.2283352 ],\n",
              "       [-0.75745323],\n",
              "       [ 0.31735092],\n",
              "       [-0.43820144],\n",
              "       [-2.2068671 ],\n",
              "       [ 0.36859508],\n",
              "       [ 0.71097479],\n",
              "       [ 0.4751877 ],\n",
              "       [ 0.46565797],\n",
              "       [ 0.1549036 ],\n",
              "       [-0.34660679],\n",
              "       [-1.66425644],\n",
              "       [ 1.2690581 ],\n",
              "       [ 0.83090566],\n",
              "       [-0.52316421],\n",
              "       [ 1.39923842],\n",
              "       [ 0.10126979],\n",
              "       [ 2.15038297],\n",
              "       [-0.65105648],\n",
              "       [ 0.36003179],\n",
              "       [-0.98027432],\n",
              "       [-1.08718159],\n",
              "       [ 1.74924179],\n",
              "       [-1.53906412],\n",
              "       [ 0.3595323 ],\n",
              "       [-0.50834323],\n",
              "       [ 0.76591105],\n",
              "       [-0.02564575],\n",
              "       [-1.12050687],\n",
              "       [-0.38965553],\n",
              "       [-1.51284512],\n",
              "       [-0.37011608],\n",
              "       [ 0.81730552],\n",
              "       [-1.01700203],\n",
              "       [-0.7645939 ],\n",
              "       [ 0.35136153],\n",
              "       [-0.72099967],\n",
              "       [ 0.20780005],\n",
              "       [ 0.23785784],\n",
              "       [ 1.19070527],\n",
              "       [ 0.78857048],\n",
              "       [-0.04450308],\n",
              "       [-1.05465718],\n",
              "       [-0.00238903],\n",
              "       [-0.33861825],\n",
              "       [ 0.63988397],\n",
              "       [ 0.56226171],\n",
              "       [-1.04537713],\n",
              "       [-0.33267578],\n",
              "       [ 0.95524669],\n",
              "       [-0.5351834 ],\n",
              "       [-1.92415945],\n",
              "       [ 0.34875059],\n",
              "       [-0.51196509],\n",
              "       [-0.38445769],\n",
              "       [ 0.39724133],\n",
              "       [ 1.47868574],\n",
              "       [-0.57784166],\n",
              "       [ 0.12677274],\n",
              "       [-0.48137142],\n",
              "       [ 0.49087183],\n",
              "       [-0.93235926],\n",
              "       [-0.403129  ],\n",
              "       [-0.76403397],\n",
              "       [ 0.50113729],\n",
              "       [ 0.72196506],\n",
              "       [ 0.31717096],\n",
              "       [ 0.92234415],\n",
              "       [ 0.18494595],\n",
              "       [ 1.0942751 ],\n",
              "       [-0.78898902],\n",
              "       [ 0.9137407 ],\n",
              "       [-0.08165156],\n",
              "       [-0.37591996],\n",
              "       [ 0.12730328],\n",
              "       [ 0.89179417],\n",
              "       [ 1.3501879 ],\n",
              "       [-0.84167154],\n",
              "       [-0.07236316],\n",
              "       [-0.24006071],\n",
              "       [ 0.27783616],\n",
              "       [-0.52698925],\n",
              "       [-1.22311175],\n",
              "       [ 0.81499544],\n",
              "       [ 1.08984611],\n",
              "       [-0.76862702],\n",
              "       [ 0.60628866],\n",
              "       [-0.9590398 ],\n",
              "       [-0.49797136],\n",
              "       [ 1.34510171],\n",
              "       [ 0.15420459],\n",
              "       [ 0.54791831],\n",
              "       [-1.2368377 ],\n",
              "       [-0.75747711],\n",
              "       [ 0.31287872],\n",
              "       [ 0.75376638],\n",
              "       [-0.77096853],\n",
              "       [-0.15170019],\n",
              "       [-0.41395371],\n",
              "       [-0.74613525],\n",
              "       [-0.88249039],\n",
              "       [-0.12174643],\n",
              "       [ 0.45181234],\n",
              "       [ 1.33031692],\n",
              "       [-0.51644285],\n",
              "       [ 0.53233789],\n",
              "       [-0.34112117],\n",
              "       [-2.31984755],\n",
              "       [ 0.40865865],\n",
              "       [-0.44151223],\n",
              "       [-0.68623644],\n",
              "       [-0.94663646],\n",
              "       [ 0.75470501],\n",
              "       [-0.24150531],\n",
              "       [-0.77466003],\n",
              "       [-0.97769901],\n",
              "       [-0.86779981],\n",
              "       [ 0.90517153],\n",
              "       [-0.32212366],\n",
              "       [ 0.45315861],\n",
              "       [-1.24733616],\n",
              "       [ 2.3867458 ],\n",
              "       [-0.2073497 ],\n",
              "       [ 0.45348104],\n",
              "       [ 1.84961257],\n",
              "       [-0.54657674],\n",
              "       [-0.65751727],\n",
              "       [-0.14521133],\n",
              "       [-0.29181139],\n",
              "       [ 0.13679032],\n",
              "       [ 0.07299115],\n",
              "       [-0.85414295]])"
            ]
          },
          "metadata": {},
          "execution_count": 182
        }
      ]
    },
    {
      "cell_type": "code",
      "source": [
        "y"
      ],
      "metadata": {
        "colab": {
          "base_uri": "https://localhost:8080/"
        },
        "id": "Ne8_UcYZCB0z",
        "outputId": "65edd0ba-bc68-42b2-a731-3b9a34edbf71"
      },
      "execution_count": 184,
      "outputs": [
        {
          "output_type": "execute_result",
          "data": {
            "text/plain": [
              "array([ -48.88466883,  -14.68745291,  -11.18449289,  -55.11984662,\n",
              "        -43.73001872,  -25.57023884,  -57.67150742,   12.38407498,\n",
              "         51.61762713,  -18.31928225,  -19.43619748,   93.82011207,\n",
              "        -37.74726734,   31.56986758,   58.86497651,   26.43112642,\n",
              "        -34.85422089,  -24.15203332,    1.33726086,   -8.51800314,\n",
              "         69.42758379,  -13.73403354,  -22.92658776,   -6.15188993,\n",
              "        -64.09221179,  -75.6177614 ,   28.67567726,  -79.12349293,\n",
              "         14.01119273,   -6.22884225,   -2.62919838,   21.20444608,\n",
              "         67.02101217,   73.11616961,    4.78226738,   -8.94775176,\n",
              "        -58.97447509,   21.82280085,    2.67104051,    4.53128238,\n",
              "         13.184242  ,   94.29090785,   38.59018012,   -1.94890047,\n",
              "        -34.05215629,    6.20018739,    6.50748433,  -93.31711511,\n",
              "        -53.60588041,   70.08829226,   12.53699551,    8.62275532,\n",
              "         29.27648512,   -2.61971249,   40.7062243 ,   23.90284688,\n",
              "         52.36661674,  -42.25823376,   53.50548488,   24.1337949 ,\n",
              "        -51.81623241,  -37.08565208,    5.47197163,   -7.84087799,\n",
              "          7.90364215,  -32.37403531,  -35.2321163 ,   -1.06460711,\n",
              "         19.81890061,  -49.12634641,  -18.53122255,  -84.99604817,\n",
              "        -22.74753022,  -12.54321863,   45.04604872,  -87.65766721,\n",
              "         19.50587547,  -57.90279415,  -54.07793862, -134.12541361,\n",
              "         59.08480494,   71.74387577,  -56.47586704,  -21.65902849,\n",
              "         -6.12005144,   -7.5347591 ,  -40.9385617 ,   44.72838194,\n",
              "        -42.14984651,  -23.43417824,   53.32883003,  -38.70255859,\n",
              "        -51.93730664,  -44.46494502,   41.58092484,   39.13340443,\n",
              "          6.36733727,   -9.02307653,  -63.35310601,  -11.15546227,\n",
              "         73.77145198,  -38.95057856,  -24.68185305,  -22.15521063,\n",
              "         -2.12575689,   49.14731304,  -39.54197762,  -25.59667406,\n",
              "         -9.27388641,   -0.48146575,   -4.45240247,   52.19414982,\n",
              "       -102.50878354,   66.96963106,   -4.55389757,  -54.66282313,\n",
              "        -33.60391773,   30.5029272 ,  -29.2848103 ,  -47.75692845,\n",
              "         18.36543062,  -46.71381877,   29.41239723,  -36.73707058,\n",
              "         10.39171558,   78.33066051,   16.88035493,   99.81070561,\n",
              "        -68.04079631,   11.21471393,  -27.09384888,   47.52795474,\n",
              "         21.23319163,  -67.03102854,   69.55909984,   -3.43701701,\n",
              "        -49.81361276,  -49.50475596,  -44.97417473,   54.52614594,\n",
              "          9.07321657,  -39.62671993,   96.89297051,  -22.4893478 ,\n",
              "         38.84010089,  -88.96697608,  -17.1691096 ,  -31.50964002,\n",
              "        -88.99995292,   14.03851391,  -26.06861436,   -5.51246076,\n",
              "         33.88728099,  -19.05364939,  -28.84385133,  -21.97301076,\n",
              "        -36.97541819,  -27.2228303 ,   46.28180181,   11.99416137,\n",
              "        -68.05346387,  -31.48808566,   53.58792787,   54.28863805,\n",
              "         61.96312621,  -29.25481797,  -25.36856771,   11.97676791,\n",
              "        -39.89643265,  -43.01442485,   -3.43808932,  -20.27769852,\n",
              "          1.67354807,   11.50215177,   35.33311801,  -44.13970116,\n",
              "          7.91846553,   11.63833752,  -26.50993882,   17.32356175,\n",
              "         28.11692992,  -32.95730177,   60.03640192,   58.10497392,\n",
              "        -22.17600722,   53.11282796,  -16.80488294,   18.11077054,\n",
              "        -44.72265506,   40.69002429,  -32.62904738,   25.99189769,\n",
              "         22.2633492 ,    3.74710307,  -60.60234108,  -66.39955354,\n",
              "        -18.90865307,   22.45606596,  -47.58518131,    7.79504509])"
            ]
          },
          "metadata": {},
          "execution_count": 184
        }
      ]
    },
    {
      "cell_type": "code",
      "source": [
        "reg.score(X_train,y_train)"
      ],
      "metadata": {
        "colab": {
          "base_uri": "https://localhost:8080/"
        },
        "id": "OdPy_dEACB39",
        "outputId": "5596770a-0e4d-4995-c967-d1fa8760631d"
      },
      "execution_count": 185,
      "outputs": [
        {
          "output_type": "execute_result",
          "data": {
            "text/plain": [
              "0.1251766284990934"
            ]
          },
          "metadata": {},
          "execution_count": 185
        }
      ]
    },
    {
      "cell_type": "code",
      "source": [
        "pred=reg.predict(X_test)"
      ],
      "metadata": {
        "id": "N9yjODsgCB63"
      },
      "execution_count": 186,
      "outputs": []
    },
    {
      "cell_type": "code",
      "source": [
        "r2_score(y_test,pred)"
      ],
      "metadata": {
        "colab": {
          "base_uri": "https://localhost:8080/"
        },
        "id": "ujktxoY8CB-W",
        "outputId": "fd07c76b-97c8-42ac-b124-af3d07e4aab4"
      },
      "execution_count": 189,
      "outputs": [
        {
          "output_type": "execute_result",
          "data": {
            "text/plain": [
              "0.23034314465964612"
            ]
          },
          "metadata": {},
          "execution_count": 189
        }
      ]
    },
    {
      "cell_type": "code",
      "source": [],
      "metadata": {
        "id": "FyFFDSJqCCCM"
      },
      "execution_count": null,
      "outputs": []
    },
    {
      "cell_type": "code",
      "source": [],
      "metadata": {
        "id": "eaG7nh1ECCFQ"
      },
      "execution_count": null,
      "outputs": []
    },
    {
      "cell_type": "code",
      "source": [],
      "metadata": {
        "id": "jiqHwGWfCCJA"
      },
      "execution_count": null,
      "outputs": []
    },
    {
      "cell_type": "code",
      "source": [],
      "metadata": {
        "id": "NRqAhpVaCCL1"
      },
      "execution_count": null,
      "outputs": []
    },
    {
      "cell_type": "code",
      "source": [],
      "metadata": {
        "id": "J1mXumKxCCPB"
      },
      "execution_count": null,
      "outputs": []
    },
    {
      "cell_type": "code",
      "source": [],
      "metadata": {
        "id": "so9XeURTCCR7"
      },
      "execution_count": null,
      "outputs": []
    },
    {
      "cell_type": "markdown",
      "source": [
        "# New Section"
      ],
      "metadata": {
        "id": "w7Q__iRg_oCm"
      }
    },
    {
      "cell_type": "markdown",
      "source": [
        "# New Section"
      ],
      "metadata": {
        "id": "Fyn0aii1-ija"
      }
    }
  ]
}